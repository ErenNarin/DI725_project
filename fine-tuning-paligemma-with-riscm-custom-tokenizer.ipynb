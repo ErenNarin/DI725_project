{
 "cells": [
  {
   "cell_type": "markdown",
   "source": [
    "This notebook for fine-tuning the PaliGemma model wit the RISCM dataset and testing some model performance improvement suggestions.\n",
    "\n",
    "Install the required packages with the following commands. If you are running this notebook on Colab, the second installation isn't neccessary. Otherwise, choose proper cuda version before installation."
   ],
   "metadata": {
    "id": "0tUFofBAOlkK"
   }
  },
  {
   "cell_type": "code",
   "execution_count": 1,
   "metadata": {
    "colab": {
     "base_uri": "https://localhost:8080/"
    },
    "executionInfo": {
     "elapsed": 8256,
     "status": "ok",
     "timestamp": 1746836335657,
     "user": {
      "displayName": "Eren Narin",
      "userId": "16039153764301371561"
     },
     "user_tz": -180
    },
    "id": "pFnp4yMuokbT",
    "outputId": "f744b45a-78f6-4dba-9206-e2d8ca0bdd75"
   },
   "outputs": [
    {
     "output_type": "stream",
     "name": "stdout",
     "text": [
      "Requirement already satisfied: tensorflow in /usr/local/lib/python3.11/dist-packages (2.18.0)\n",
      "Collecting overrides\n",
      "  Downloading overrides-7.7.0-py3-none-any.whl.metadata (5.8 kB)\n",
      "Collecting ml_collections\n",
      "  Downloading ml_collections-1.1.0-py3-none-any.whl.metadata (22 kB)\n",
      "Requirement already satisfied: sentencepiece in /usr/local/lib/python3.11/dist-packages (0.2.0)\n",
      "Requirement already satisfied: einops~=0.7 in /usr/local/lib/python3.11/dist-packages (0.8.1)\n",
      "Requirement already satisfied: jax in /usr/local/lib/python3.11/dist-packages (0.5.2)\n",
      "Requirement already satisfied: ipython in /usr/local/lib/python3.11/dist-packages (7.34.0)\n",
      "Requirement already satisfied: pillow in /usr/local/lib/python3.11/dist-packages (11.2.1)\n",
      "Requirement already satisfied: scikit-image in /usr/local/lib/python3.11/dist-packages (0.25.2)\n",
      "Requirement already satisfied: matplotlib in /usr/local/lib/python3.11/dist-packages (3.10.0)\n",
      "Requirement already satisfied: flax in /usr/local/lib/python3.11/dist-packages (0.10.6)\n",
      "Requirement already satisfied: kagglehub in /usr/local/lib/python3.11/dist-packages (0.3.12)\n",
      "Requirement already satisfied: polars in /usr/local/lib/python3.11/dist-packages (1.21.0)\n",
      "Collecting keras-nightly\n",
      "  Downloading keras_nightly-3.10.0.dev2025050903-py3-none-any.whl.metadata (6.0 kB)\n",
      "Requirement already satisfied: wandb in /usr/local/lib/python3.11/dist-packages (0.19.10)\n",
      "Collecting rouge_score\n",
      "  Downloading rouge_score-0.1.2.tar.gz (17 kB)\n",
      "  Preparing metadata (setup.py) ... \u001B[?25l\u001B[?25hdone\n",
      "Requirement already satisfied: absl-py>=1.0.0 in /usr/local/lib/python3.11/dist-packages (from tensorflow) (1.4.0)\n",
      "Requirement already satisfied: astunparse>=1.6.0 in /usr/local/lib/python3.11/dist-packages (from tensorflow) (1.6.3)\n",
      "Requirement already satisfied: flatbuffers>=24.3.25 in /usr/local/lib/python3.11/dist-packages (from tensorflow) (25.2.10)\n",
      "Requirement already satisfied: gast!=0.5.0,!=0.5.1,!=0.5.2,>=0.2.1 in /usr/local/lib/python3.11/dist-packages (from tensorflow) (0.6.0)\n",
      "Requirement already satisfied: google-pasta>=0.1.1 in /usr/local/lib/python3.11/dist-packages (from tensorflow) (0.2.0)\n",
      "Requirement already satisfied: libclang>=13.0.0 in /usr/local/lib/python3.11/dist-packages (from tensorflow) (18.1.1)\n",
      "Requirement already satisfied: opt-einsum>=2.3.2 in /usr/local/lib/python3.11/dist-packages (from tensorflow) (3.4.0)\n",
      "Requirement already satisfied: packaging in /usr/local/lib/python3.11/dist-packages (from tensorflow) (24.2)\n",
      "Requirement already satisfied: protobuf!=4.21.0,!=4.21.1,!=4.21.2,!=4.21.3,!=4.21.4,!=4.21.5,<6.0.0dev,>=3.20.3 in /usr/local/lib/python3.11/dist-packages (from tensorflow) (5.29.4)\n",
      "Requirement already satisfied: requests<3,>=2.21.0 in /usr/local/lib/python3.11/dist-packages (from tensorflow) (2.32.3)\n",
      "Requirement already satisfied: setuptools in /usr/local/lib/python3.11/dist-packages (from tensorflow) (75.2.0)\n",
      "Requirement already satisfied: six>=1.12.0 in /usr/local/lib/python3.11/dist-packages (from tensorflow) (1.17.0)\n",
      "Requirement already satisfied: termcolor>=1.1.0 in /usr/local/lib/python3.11/dist-packages (from tensorflow) (3.1.0)\n",
      "Requirement already satisfied: typing-extensions>=3.6.6 in /usr/local/lib/python3.11/dist-packages (from tensorflow) (4.13.2)\n",
      "Requirement already satisfied: wrapt>=1.11.0 in /usr/local/lib/python3.11/dist-packages (from tensorflow) (1.17.2)\n",
      "Requirement already satisfied: grpcio<2.0,>=1.24.3 in /usr/local/lib/python3.11/dist-packages (from tensorflow) (1.71.0)\n",
      "Requirement already satisfied: tensorboard<2.19,>=2.18 in /usr/local/lib/python3.11/dist-packages (from tensorflow) (2.18.0)\n",
      "Requirement already satisfied: keras>=3.5.0 in /usr/local/lib/python3.11/dist-packages (from tensorflow) (3.8.0)\n",
      "Requirement already satisfied: numpy<2.1.0,>=1.26.0 in /usr/local/lib/python3.11/dist-packages (from tensorflow) (2.0.2)\n",
      "Requirement already satisfied: h5py>=3.11.0 in /usr/local/lib/python3.11/dist-packages (from tensorflow) (3.13.0)\n",
      "Requirement already satisfied: ml-dtypes<0.5.0,>=0.4.0 in /usr/local/lib/python3.11/dist-packages (from tensorflow) (0.4.1)\n",
      "Requirement already satisfied: tensorflow-io-gcs-filesystem>=0.23.1 in /usr/local/lib/python3.11/dist-packages (from tensorflow) (0.37.1)\n",
      "Requirement already satisfied: PyYAML in /usr/local/lib/python3.11/dist-packages (from ml_collections) (6.0.2)\n",
      "Requirement already satisfied: jaxlib<=0.5.2,>=0.5.1 in /usr/local/lib/python3.11/dist-packages (from jax) (0.5.1)\n",
      "Requirement already satisfied: scipy>=1.11.1 in /usr/local/lib/python3.11/dist-packages (from jax) (1.15.2)\n",
      "Collecting jedi>=0.16 (from ipython)\n",
      "  Downloading jedi-0.19.2-py2.py3-none-any.whl.metadata (22 kB)\n",
      "Requirement already satisfied: decorator in /usr/local/lib/python3.11/dist-packages (from ipython) (4.4.2)\n",
      "Requirement already satisfied: pickleshare in /usr/local/lib/python3.11/dist-packages (from ipython) (0.7.5)\n",
      "Requirement already satisfied: traitlets>=4.2 in /usr/local/lib/python3.11/dist-packages (from ipython) (5.7.1)\n",
      "Requirement already satisfied: prompt-toolkit!=3.0.0,!=3.0.1,<3.1.0,>=2.0.0 in /usr/local/lib/python3.11/dist-packages (from ipython) (3.0.51)\n",
      "Requirement already satisfied: pygments in /usr/local/lib/python3.11/dist-packages (from ipython) (2.19.1)\n",
      "Requirement already satisfied: backcall in /usr/local/lib/python3.11/dist-packages (from ipython) (0.2.0)\n",
      "Requirement already satisfied: matplotlib-inline in /usr/local/lib/python3.11/dist-packages (from ipython) (0.1.7)\n",
      "Requirement already satisfied: pexpect>4.3 in /usr/local/lib/python3.11/dist-packages (from ipython) (4.9.0)\n",
      "Requirement already satisfied: networkx>=3.0 in /usr/local/lib/python3.11/dist-packages (from scikit-image) (3.4.2)\n",
      "Requirement already satisfied: imageio!=2.35.0,>=2.33 in /usr/local/lib/python3.11/dist-packages (from scikit-image) (2.37.0)\n",
      "Requirement already satisfied: tifffile>=2022.8.12 in /usr/local/lib/python3.11/dist-packages (from scikit-image) (2025.3.30)\n",
      "Requirement already satisfied: lazy-loader>=0.4 in /usr/local/lib/python3.11/dist-packages (from scikit-image) (0.4)\n",
      "Requirement already satisfied: contourpy>=1.0.1 in /usr/local/lib/python3.11/dist-packages (from matplotlib) (1.3.2)\n",
      "Requirement already satisfied: cycler>=0.10 in /usr/local/lib/python3.11/dist-packages (from matplotlib) (0.12.1)\n",
      "Requirement already satisfied: fonttools>=4.22.0 in /usr/local/lib/python3.11/dist-packages (from matplotlib) (4.57.0)\n",
      "Requirement already satisfied: kiwisolver>=1.3.1 in /usr/local/lib/python3.11/dist-packages (from matplotlib) (1.4.8)\n",
      "Requirement already satisfied: pyparsing>=2.3.1 in /usr/local/lib/python3.11/dist-packages (from matplotlib) (3.2.3)\n",
      "Requirement already satisfied: python-dateutil>=2.7 in /usr/local/lib/python3.11/dist-packages (from matplotlib) (2.9.0.post0)\n",
      "Requirement already satisfied: msgpack in /usr/local/lib/python3.11/dist-packages (from flax) (1.1.0)\n",
      "Requirement already satisfied: optax in /usr/local/lib/python3.11/dist-packages (from flax) (0.2.4)\n",
      "Requirement already satisfied: orbax-checkpoint in /usr/local/lib/python3.11/dist-packages (from flax) (0.11.13)\n",
      "Requirement already satisfied: tensorstore in /usr/local/lib/python3.11/dist-packages (from flax) (0.1.74)\n",
      "Requirement already satisfied: rich>=11.1 in /usr/local/lib/python3.11/dist-packages (from flax) (13.9.4)\n",
      "Requirement already satisfied: treescope>=0.1.7 in /usr/local/lib/python3.11/dist-packages (from flax) (0.1.9)\n",
      "Requirement already satisfied: tqdm in /usr/local/lib/python3.11/dist-packages (from kagglehub) (4.67.1)\n",
      "Requirement already satisfied: namex in /usr/local/lib/python3.11/dist-packages (from keras-nightly) (0.0.9)\n",
      "Requirement already satisfied: optree in /usr/local/lib/python3.11/dist-packages (from keras-nightly) (0.15.0)\n",
      "Requirement already satisfied: click!=8.0.0,>=7.1 in /usr/local/lib/python3.11/dist-packages (from wandb) (8.1.8)\n",
      "Requirement already satisfied: docker-pycreds>=0.4.0 in /usr/local/lib/python3.11/dist-packages (from wandb) (0.4.0)\n",
      "Requirement already satisfied: gitpython!=3.1.29,>=1.0.0 in /usr/local/lib/python3.11/dist-packages (from wandb) (3.1.44)\n",
      "Requirement already satisfied: platformdirs in /usr/local/lib/python3.11/dist-packages (from wandb) (4.3.7)\n",
      "Requirement already satisfied: psutil>=5.0.0 in /usr/local/lib/python3.11/dist-packages (from wandb) (5.9.5)\n",
      "Requirement already satisfied: pydantic<3 in /usr/local/lib/python3.11/dist-packages (from wandb) (2.11.4)\n",
      "Requirement already satisfied: sentry-sdk>=2.0.0 in /usr/local/lib/python3.11/dist-packages (from wandb) (2.27.0)\n",
      "Requirement already satisfied: setproctitle in /usr/local/lib/python3.11/dist-packages (from wandb) (1.3.6)\n",
      "Requirement already satisfied: nltk in /usr/local/lib/python3.11/dist-packages (from rouge_score) (3.9.1)\n",
      "Requirement already satisfied: wheel<1.0,>=0.23.0 in /usr/local/lib/python3.11/dist-packages (from astunparse>=1.6.0->tensorflow) (0.45.1)\n",
      "Requirement already satisfied: gitdb<5,>=4.0.1 in /usr/local/lib/python3.11/dist-packages (from gitpython!=3.1.29,>=1.0.0->wandb) (4.0.12)\n",
      "Requirement already satisfied: parso<0.9.0,>=0.8.4 in /usr/local/lib/python3.11/dist-packages (from jedi>=0.16->ipython) (0.8.4)\n",
      "Requirement already satisfied: ptyprocess>=0.5 in /usr/local/lib/python3.11/dist-packages (from pexpect>4.3->ipython) (0.7.0)\n",
      "Requirement already satisfied: wcwidth in /usr/local/lib/python3.11/dist-packages (from prompt-toolkit!=3.0.0,!=3.0.1,<3.1.0,>=2.0.0->ipython) (0.2.13)\n",
      "Requirement already satisfied: annotated-types>=0.6.0 in /usr/local/lib/python3.11/dist-packages (from pydantic<3->wandb) (0.7.0)\n",
      "Requirement already satisfied: pydantic-core==2.33.2 in /usr/local/lib/python3.11/dist-packages (from pydantic<3->wandb) (2.33.2)\n",
      "Requirement already satisfied: typing-inspection>=0.4.0 in /usr/local/lib/python3.11/dist-packages (from pydantic<3->wandb) (0.4.0)\n",
      "Requirement already satisfied: charset-normalizer<4,>=2 in /usr/local/lib/python3.11/dist-packages (from requests<3,>=2.21.0->tensorflow) (3.4.1)\n",
      "Requirement already satisfied: idna<4,>=2.5 in /usr/local/lib/python3.11/dist-packages (from requests<3,>=2.21.0->tensorflow) (3.10)\n",
      "Requirement already satisfied: urllib3<3,>=1.21.1 in /usr/local/lib/python3.11/dist-packages (from requests<3,>=2.21.0->tensorflow) (2.4.0)\n",
      "Requirement already satisfied: certifi>=2017.4.17 in /usr/local/lib/python3.11/dist-packages (from requests<3,>=2.21.0->tensorflow) (2025.4.26)\n",
      "Requirement already satisfied: markdown-it-py>=2.2.0 in /usr/local/lib/python3.11/dist-packages (from rich>=11.1->flax) (3.0.0)\n",
      "Requirement already satisfied: markdown>=2.6.8 in /usr/local/lib/python3.11/dist-packages (from tensorboard<2.19,>=2.18->tensorflow) (3.8)\n",
      "Requirement already satisfied: tensorboard-data-server<0.8.0,>=0.7.0 in /usr/local/lib/python3.11/dist-packages (from tensorboard<2.19,>=2.18->tensorflow) (0.7.2)\n",
      "Requirement already satisfied: werkzeug>=1.0.1 in /usr/local/lib/python3.11/dist-packages (from tensorboard<2.19,>=2.18->tensorflow) (3.1.3)\n",
      "Requirement already satisfied: joblib in /usr/local/lib/python3.11/dist-packages (from nltk->rouge_score) (1.4.2)\n",
      "Requirement already satisfied: regex>=2021.8.3 in /usr/local/lib/python3.11/dist-packages (from nltk->rouge_score) (2024.11.6)\n",
      "Requirement already satisfied: chex>=0.1.87 in /usr/local/lib/python3.11/dist-packages (from optax->flax) (0.1.89)\n",
      "Requirement already satisfied: etils[epy] in /usr/local/lib/python3.11/dist-packages (from optax->flax) (1.12.2)\n",
      "Requirement already satisfied: nest_asyncio in /usr/local/lib/python3.11/dist-packages (from orbax-checkpoint->flax) (1.6.0)\n",
      "Requirement already satisfied: humanize in /usr/local/lib/python3.11/dist-packages (from orbax-checkpoint->flax) (4.12.3)\n",
      "Requirement already satisfied: simplejson>=3.16.0 in /usr/local/lib/python3.11/dist-packages (from orbax-checkpoint->flax) (3.20.1)\n",
      "Requirement already satisfied: toolz>=0.9.0 in /usr/local/lib/python3.11/dist-packages (from chex>=0.1.87->optax->flax) (0.12.1)\n",
      "Requirement already satisfied: smmap<6,>=3.0.1 in /usr/local/lib/python3.11/dist-packages (from gitdb<5,>=4.0.1->gitpython!=3.1.29,>=1.0.0->wandb) (5.0.2)\n",
      "Requirement already satisfied: mdurl~=0.1 in /usr/local/lib/python3.11/dist-packages (from markdown-it-py>=2.2.0->rich>=11.1->flax) (0.1.2)\n",
      "Requirement already satisfied: MarkupSafe>=2.1.1 in /usr/local/lib/python3.11/dist-packages (from werkzeug>=1.0.1->tensorboard<2.19,>=2.18->tensorflow) (3.0.2)\n",
      "Requirement already satisfied: fsspec in /usr/local/lib/python3.11/dist-packages (from etils[epath,epy]->orbax-checkpoint->flax) (2025.3.2)\n",
      "Requirement already satisfied: importlib_resources in /usr/local/lib/python3.11/dist-packages (from etils[epath,epy]->orbax-checkpoint->flax) (6.5.2)\n",
      "Requirement already satisfied: zipp in /usr/local/lib/python3.11/dist-packages (from etils[epath,epy]->orbax-checkpoint->flax) (3.21.0)\n",
      "Downloading overrides-7.7.0-py3-none-any.whl (17 kB)\n",
      "Downloading ml_collections-1.1.0-py3-none-any.whl (76 kB)\n",
      "\u001B[2K   \u001B[90m━━━━━━━━━━━━━━━━━━━━━━━━━━━━━━━━━━━━━━━━\u001B[0m \u001B[32m76.7/76.7 kB\u001B[0m \u001B[31m6.1 MB/s\u001B[0m eta \u001B[36m0:00:00\u001B[0m\n",
      "\u001B[?25hDownloading keras_nightly-3.10.0.dev2025050903-py3-none-any.whl (1.4 MB)\n",
      "\u001B[2K   \u001B[90m━━━━━━━━━━━━━━━━━━━━━━━━━━━━━━━━━━━━━━━━\u001B[0m \u001B[32m1.4/1.4 MB\u001B[0m \u001B[31m56.7 MB/s\u001B[0m eta \u001B[36m0:00:00\u001B[0m\n",
      "\u001B[?25hDownloading jedi-0.19.2-py2.py3-none-any.whl (1.6 MB)\n",
      "\u001B[2K   \u001B[90m━━━━━━━━━━━━━━━━━━━━━━━━━━━━━━━━━━━━━━━━\u001B[0m \u001B[32m1.6/1.6 MB\u001B[0m \u001B[31m63.5 MB/s\u001B[0m eta \u001B[36m0:00:00\u001B[0m\n",
      "\u001B[?25hBuilding wheels for collected packages: rouge_score\n",
      "  Building wheel for rouge_score (setup.py) ... \u001B[?25l\u001B[?25hdone\n",
      "  Created wheel for rouge_score: filename=rouge_score-0.1.2-py3-none-any.whl size=24934 sha256=47cb3c3d81bc5c866052eeaa34469c1cc4eabe94a098784032b77c577e5359e5\n",
      "  Stored in directory: /root/.cache/pip/wheels/1e/19/43/8a442dc83660ca25e163e1bd1f89919284ab0d0c1475475148\n",
      "Successfully built rouge_score\n",
      "Installing collected packages: overrides, ml_collections, jedi, rouge_score, keras-nightly\n",
      "Successfully installed jedi-0.19.2 keras-nightly-3.10.0.dev2025050903 ml_collections-1.1.0 overrides-7.7.0 rouge_score-0.1.2\n"
     ]
    }
   ],
   "source": [
    "!pip install tensorflow overrides ml_collections sentencepiece einops~=0.7 jax ipython pillow scikit-image matplotlib flax kagglehub polars keras-nightly wandb rouge_score\n",
    "# !pip install -U \"jax[cuda12]\""
   ]
  },
  {
   "cell_type": "markdown",
   "source": [
    "We load the data from drive. For other options, this code block isn't neccessary."
   ],
   "metadata": {
    "id": "oQWPKJzZOzdR"
   }
  },
  {
   "cell_type": "code",
   "execution_count": 2,
   "metadata": {
    "colab": {
     "base_uri": "https://localhost:8080/"
    },
    "executionInfo": {
     "elapsed": 17691,
     "status": "ok",
     "timestamp": 1746836353351,
     "user": {
      "displayName": "Eren Narin",
      "userId": "16039153764301371561"
     },
     "user_tz": -180
    },
    "id": "BzB4Ys8Korki",
    "outputId": "ae649147-6179-4afe-b8ba-517db363d17b"
   },
   "outputs": [
    {
     "output_type": "stream",
     "name": "stdout",
     "text": [
      "Mounted at /content/drive\n"
     ]
    }
   ],
   "source": [
    "from google.colab import drive\n",
    "drive.mount('/content/drive')"
   ]
  },
  {
   "cell_type": "markdown",
   "source": [
    "Download the Google's \"big_vision_repo\" to use PaliGemma utilities."
   ],
   "metadata": {
    "id": "WO4gMwrbO3RI"
   }
  },
  {
   "cell_type": "code",
   "metadata": {
    "id": "DfxKb3F839Ks",
    "executionInfo": {
     "status": "ok",
     "timestamp": 1746836357243,
     "user_tz": -180,
     "elapsed": 1012,
     "user": {
      "displayName": "Eren Narin",
      "userId": "16039153764301371561"
     }
    },
    "colab": {
     "base_uri": "https://localhost:8080/"
    },
    "outputId": "d5e109f2-d85d-4ff7-ecb1-6729973ddaba",
    "ExecuteTime": {
     "end_time": "2025-05-10T16:14:46.288972Z",
     "start_time": "2025-05-10T16:14:46.285354Z"
    }
   },
   "source": [
    "import os\n",
    "import sys\n",
    "\n",
    "# Fetch big_vision repository if python doesn't know about it and install\n",
    "# dependencies needed for this notebook.\n",
    "if not os.path.exists(\"big_vision_repo\"):\n",
    "    !git clone --quiet --branch=master --depth=1 https://github.com/ErenNarin/modified-big-vision big_vision_repo\n",
    "\n",
    "# Append big_vision code to python import path\n",
    "if \"big_vision_repo\" not in sys.path:\n",
    "    sys.path.append(\"big_vision_repo\")"
   ],
   "outputs": [],
   "execution_count": 4
  },
  {
   "cell_type": "markdown",
   "source": [
    "Import the required packages and check the availability of jax."
   ],
   "metadata": {
    "id": "GvN_0F6zPHQV"
   }
  },
  {
   "cell_type": "code",
   "execution_count": 4,
   "metadata": {
    "colab": {
     "base_uri": "https://localhost:8080/"
    },
    "executionInfo": {
     "elapsed": 6363,
     "status": "ok",
     "timestamp": 1746836419466,
     "user": {
      "displayName": "Eren Narin",
      "userId": "16039153764301371561"
     },
     "user_tz": -180
    },
    "id": "dTfe2k8J4Bw0",
    "outputId": "503ca877-56a7-4a67-9695-61e06cb3f004"
   },
   "outputs": [
    {
     "output_type": "stream",
     "name": "stdout",
     "text": [
      "JAX version:  0.5.2\n",
      "JAX platform: cpu\n",
      "JAX devices:  1\n"
     ]
    }
   ],
   "source": [
    "import base64\n",
    "import functools\n",
    "import html\n",
    "import io\n",
    "import warnings\n",
    "import json\n",
    "\n",
    "import jax\n",
    "import jax.numpy as jnp\n",
    "import numpy as np\n",
    "import ml_collections\n",
    "import polars as pl\n",
    "\n",
    "import tensorflow as tf\n",
    "from tensorflow.keras import mixed_precision\n",
    "import sentencepiece\n",
    "\n",
    "from IPython.core.display import display, HTML\n",
    "from PIL import Image\n",
    "\n",
    "import kagglehub\n",
    "\n",
    "from skimage.segmentation import slic\n",
    "from skimage.segmentation import mark_boundaries\n",
    "from skimage.util import img_as_float\n",
    "import matplotlib.pyplot as plt\n",
    "\n",
    "# Import model definition from big_vision\n",
    "from big_vision_repo.big_vision.models.proj.paligemma import paligemma\n",
    "from big_vision_repo.big_vision.trainers.proj.paligemma import predict_fns\n",
    "\n",
    "# Import big vision utilities\n",
    "from big_vision_repo.big_vision.datasets.jsonl import DataSource\n",
    "from big_vision_repo.big_vision.utils import tree_map_with_names, reshard, create_learning_rate_schedule, \\\n",
    "    tree_flatten_with_names\n",
    "from big_vision_repo.big_vision.sharding import infer_sharding\n",
    "\n",
    "# Don't let TF use the GPU or TPUs\n",
    "tf.config.set_visible_devices([], \"GPU\")\n",
    "tf.config.set_visible_devices([], \"TPU\")\n",
    "\n",
    "mixed_precision.set_global_policy(\"mixed_float16\")\n",
    "\n",
    "backend = jax.extend.backend.get_backend()\n",
    "print(f\"JAX version:  {jax.__version__}\")\n",
    "print(f\"JAX platform: {backend.platform}\")\n",
    "print(f\"JAX devices:  {jax.device_count()}\")"
   ]
  },
  {
   "cell_type": "markdown",
   "source": [
    "If you are using Colab, add your Kaggle credentials to secrets. Otherwise, please define your credentials with the code below."
   ],
   "metadata": {
    "id": "tp_D1hE6PVU2"
   }
  },
  {
   "cell_type": "code",
   "source": [
    "# os.environ[\"KAGGLE_USERNAME\"] = \"KAGGLE_USERNAME\"\n",
    "# os.environ[\"KAGGLE_KEY\"] = \"KAGGLE_KEY\""
   ],
   "metadata": {
    "id": "p_BX5TD0PV1S",
    "executionInfo": {
     "status": "ok",
     "timestamp": 1746836419480,
     "user_tz": -180,
     "elapsed": 16,
     "user": {
      "displayName": "Eren Narin",
      "userId": "16039153764301371561"
     }
    }
   },
   "execution_count": 5,
   "outputs": []
  },
  {
   "cell_type": "markdown",
   "source": [
    "Download the pre-trained model to be fine-tuned. We will use PaliGemma-2 3B model."
   ],
   "metadata": {
    "id": "MDP42GBPPvjs"
   }
  },
  {
   "cell_type": "code",
   "execution_count": 6,
   "metadata": {
    "colab": {
     "base_uri": "https://localhost:8080/"
    },
    "executionInfo": {
     "elapsed": 10302,
     "status": "ok",
     "timestamp": 1746836429783,
     "user": {
      "displayName": "Eren Narin",
      "userId": "16039153764301371561"
     },
     "user_tz": -180
    },
    "id": "gQNOTfF24AV4",
    "outputId": "d21ec5b6-d680-46d2-d4ce-893c23858d21"
   },
   "outputs": [
    {
     "output_type": "stream",
     "name": "stdout",
     "text": [
      "Downloading the checkpoint from Kaggle, this could take a few minutes....\n",
      "Model path: /kaggle/input/paligemma-2/jax/paligemma2-3b-pt-224/1/./paligemma2-3b-pt-224.b16.npz\n",
      "Downloading the model tokenizer...\n",
      "Copying gs://big_vision/paligemma_tokenizer.model...\n",
      "- [1 files][  4.1 MiB/  4.1 MiB]                                                \n",
      "Operation completed over 1 objects/4.1 MiB.                                      \n",
      "Tokenizer path: model/paligemma_tokenizer.model\n"
     ]
    }
   ],
   "source": [
    "# Use these for PaliGemma-2 3B 224px²\n",
    "LLM_VARIANT = \"gemma2_2b\"\n",
    "MODEL_PATH = \"./paligemma2-3b-pt-224.b16.npz\"\n",
    "KAGGLE_HANDLE = \"google/paligemma-2/jax/paligemma2-3b-pt-224\"\n",
    "\n",
    "\"\"\"\n",
    "# Use these for PaliGemma 1:\n",
    "LLM_VARIANT = \"gemma_2b\"\n",
    "MODEL_PATH = \"./paligemma-3b-pt-224.f16.npz\"\n",
    "KAGGLE_HANDLE = \"google/paligemma/jax/paligemma-3b-pt-224\"\n",
    "\"\"\"\n",
    "\n",
    "if not os.path.exists(MODEL_PATH):\n",
    "    print(\"Downloading the checkpoint from Kaggle, this could take a few minutes....\")\n",
    "    MODEL_PATH = kagglehub.model_download(KAGGLE_HANDLE, MODEL_PATH)\n",
    "    print(f\"Model path: {MODEL_PATH}\")\n",
    "\n",
    "TOKENIZER_PATH = \"model/paligemma_tokenizer.model\"\n",
    "if not os.path.exists(TOKENIZER_PATH):\n",
    "    print(\"Downloading the model tokenizer...\")\n",
    "    !gsutil cp gs://big_vision/paligemma_tokenizer.model {TOKENIZER_PATH}\n",
    "    print(f\"Tokenizer path: {TOKENIZER_PATH}\")"
   ]
  },
  {
   "cell_type": "markdown",
   "source": [
    "Define the model with the pre-trained weights and default config."
   ],
   "metadata": {
    "id": "XLm-61oUQziN"
   }
  },
  {
   "cell_type": "code",
   "execution_count": 7,
   "metadata": {
    "id": "1aghcULcEdtv",
    "executionInfo": {
     "status": "ok",
     "timestamp": 1746836495730,
     "user_tz": -180,
     "elapsed": 65804,
     "user": {
      "displayName": "Eren Narin",
      "userId": "16039153764301371561"
     }
    }
   },
   "outputs": [],
   "source": [
    "# Define model\n",
    "\n",
    "# IMPORTANT: Gemma-2 has a \"final_logits_softcap\" property. Set it to 0.0\n",
    "# for better transfer results.\n",
    "model_config = ml_collections.FrozenConfigDict({\n",
    "    \"llm\": {\"vocab_size\": 257_152, \"variant\": LLM_VARIANT, \"final_logits_softcap\": 0.0},\n",
    "    \"img\": {\"variant\": \"So400m/14\", \"pool_type\": \"none\", \"scan\": True, \"dtype_mm\": \"float16\"}\n",
    "})\n",
    "model = paligemma.Model(**model_config)\n",
    "tokenizer = sentencepiece.SentencePieceProcessor(TOKENIZER_PATH)\n",
    "\n",
    "# Load params - this can take up to 1 minute in T4 colabs.\n",
    "params = paligemma.load(None, MODEL_PATH, model_config)\n",
    "\n",
    "# Define `decode` function to sample outputs from the model.\n",
    "decode_fn = predict_fns.get_all(model)['decode']\n",
    "decode = functools.partial(decode_fn, devices=jax.devices(), eos_token=tokenizer.eos_id())"
   ]
  },
  {
   "cell_type": "markdown",
   "source": [
    "Load all model parameters and add sharding to train the model on multiple GPUs, if available."
   ],
   "metadata": {
    "id": "Mw9yi2bmSW65"
   }
  },
  {
   "cell_type": "code",
   "execution_count": 8,
   "metadata": {
    "colab": {
     "base_uri": "https://localhost:8080/"
    },
    "executionInfo": {
     "elapsed": 7631,
     "status": "ok",
     "timestamp": 1746836503363,
     "user": {
      "displayName": "Eren Narin",
      "userId": "16039153764301371561"
     },
     "user_tz": -180
    },
    "id": "RWOdf_fw2SAO",
    "outputId": "1b68730a-aeeb-498d-e7ed-40e17e8a314d"
   },
   "outputs": [
    {
     "output_type": "stream",
     "name": "stdout",
     "text": [
      " == Model params == \n",
      "img/Transformer/encoder_norm/bias                                                (1152,)                float16\n",
      "img/Transformer/encoder_norm/scale                                               (1152,)                float16\n",
      "img/Transformer/encoderblock/LayerNorm_0/bias                                    (27, 1152)             float16\n",
      "img/Transformer/encoderblock/LayerNorm_0/scale                                   (27, 1152)             float16\n",
      "img/Transformer/encoderblock/LayerNorm_1/bias                                    (27, 1152)             float16\n",
      "img/Transformer/encoderblock/LayerNorm_1/scale                                   (27, 1152)             float16\n",
      "img/Transformer/encoderblock/MlpBlock_0/Dense_0/bias                             (27, 4304)             float16\n",
      "img/Transformer/encoderblock/MlpBlock_0/Dense_0/kernel                           (27, 1152, 4304)       float16\n",
      "img/Transformer/encoderblock/MlpBlock_0/Dense_1/bias                             (27, 1152)             float16\n",
      "img/Transformer/encoderblock/MlpBlock_0/Dense_1/kernel                           (27, 4304, 1152)       float16\n",
      "img/Transformer/encoderblock/MultiHeadDotProductAttention_0/key/bias             (27, 16, 72)           float16\n",
      "img/Transformer/encoderblock/MultiHeadDotProductAttention_0/key/kernel           (27, 1152, 16, 72)     float16\n",
      "img/Transformer/encoderblock/MultiHeadDotProductAttention_0/out/bias             (27, 1152)             float16\n",
      "img/Transformer/encoderblock/MultiHeadDotProductAttention_0/out/kernel           (27, 16, 72, 1152)     float16\n",
      "img/Transformer/encoderblock/MultiHeadDotProductAttention_0/query/bias           (27, 16, 72)           float16\n",
      "img/Transformer/encoderblock/MultiHeadDotProductAttention_0/query/kernel         (27, 1152, 16, 72)     float16\n",
      "img/Transformer/encoderblock/MultiHeadDotProductAttention_0/value/bias           (27, 16, 72)           float16\n",
      "img/Transformer/encoderblock/MultiHeadDotProductAttention_0/value/kernel         (27, 1152, 16, 72)     float16\n",
      "img/embedding/bias                                                               (1152,)                float16\n",
      "img/embedding/kernel                                                             (14, 14, 3, 1152)      float16\n",
      "img/head/bias                                                                    (2304,)                float16\n",
      "img/head/kernel                                                                  (1152, 2304)           float16\n",
      "img/pos_embedding                                                                (1, 256, 1152)         float16\n",
      "llm/embedder/input_embedding                                                     (257152, 2304)         float16\n",
      "llm/final_norm/scale                                                             (2304,)                float16\n",
      "llm/layers/attn/attn_vec_einsum/w                                                (26, 8, 256, 2304)     float32\n",
      "llm/layers/attn/kv_einsum/w                                                      (26, 2, 4, 2304, 256)  float32\n",
      "llm/layers/attn/q_einsum/w                                                       (26, 8, 2304, 256)     float32\n",
      "llm/layers/mlp/gating_einsum                                                     (26, 2, 2304, 9216)    float16\n",
      "llm/layers/mlp/linear                                                            (26, 9216, 2304)       float16\n",
      "llm/layers/post_attention_norm/scale                                             (26, 2304)             float16\n",
      "llm/layers/post_ffw_norm/scale                                                   (26, 2304)             float16\n",
      "llm/layers/pre_attention_norm/scale                                              (26, 2304)             float16\n",
      "llm/layers/pre_ffw_norm/scale                                                    (26, 2304)             float16\n"
     ]
    }
   ],
   "source": [
    "# Create a pytree mask of the trainable params.\n",
    "def is_trainable_param(name, param):  # pylint: disable=unused-argument\n",
    "    if name.startswith(\"llm/layers/attn/\"):  return True\n",
    "    if name.startswith(\"llm/\"):              return False\n",
    "    if name.startswith(\"img/\"):              return False\n",
    "    raise ValueError(f\"Unexpected param name {name}\")\n",
    "\n",
    "\n",
    "trainable_mask = tree_map_with_names(is_trainable_param, params)\n",
    "\n",
    "# If more than one device is available (e.g. multiple GPUs) the parameters can\n",
    "# be sharded across them to reduce HBM usage per device.\n",
    "mesh = jax.sharding.Mesh(jax.devices(), (\"data\"))\n",
    "\n",
    "data_sharding = jax.sharding.NamedSharding(\n",
    "    mesh, jax.sharding.PartitionSpec(\"data\"))\n",
    "\n",
    "params_sharding = infer_sharding(\n",
    "    params, strategy=[('.*', 'fsdp(axis=\"data\")')], mesh=mesh)\n",
    "\n",
    "# Yes: Some donated buffers are not usable.\n",
    "warnings.filterwarnings(\n",
    "    \"ignore\", message=\"Some donated buffers were not usable\")\n",
    "\n",
    "\n",
    "@functools.partial(jax.jit, donate_argnums=(0,), static_argnums=(1,))\n",
    "def maybe_cast_to_f32(params, trainable):\n",
    "    # Cast others to float16, since some GPUs don't support bf16.\n",
    "    return jax.tree.map(lambda p, m: p.astype(jnp.float32)\n",
    "    if m else p.astype(jnp.float16),\n",
    "                        params, trainable)\n",
    "\n",
    "\n",
    "# Loading all params in simultaneous - albeit much faster and more succinct -\n",
    "# requires more RAM than the T4 colab runtimes have by default.\n",
    "# Instead, do it param by param.\n",
    "params, treedef = jax.tree.flatten(params)\n",
    "sharding_leaves = jax.tree.leaves(params_sharding)\n",
    "trainable_leaves = jax.tree.leaves(trainable_mask)\n",
    "for idx, (sharding, trainable) in enumerate(zip(sharding_leaves, trainable_leaves)):\n",
    "    params[idx] = reshard(params[idx], sharding)\n",
    "    params[idx] = maybe_cast_to_f32(params[idx], trainable)\n",
    "    params[idx].block_until_ready()\n",
    "params = jax.tree.unflatten(treedef, params)\n",
    "\n",
    "\n",
    "# Print params to show what the model is made of.\n",
    "def parameter_overview(params):\n",
    "    for path, arr in tree_flatten_with_names(params)[0]:\n",
    "        print(f\"{path:80s} {str(arr.shape):22s} {arr.dtype}\")\n",
    "\n",
    "\n",
    "print(\" == Model params == \")\n",
    "parameter_overview(params)"
   ]
  },
  {
   "cell_type": "markdown",
   "source": [
    "Load and transform the data for using the PaliGemma's DataSource object. While doing this, drop duplicate or partially unavailable samples."
   ],
   "metadata": {
    "id": "ymYs17LFTh7C"
   }
  },
  {
   "cell_type": "code",
   "execution_count": 9,
   "metadata": {
    "colab": {
     "base_uri": "https://localhost:8080/"
    },
    "executionInfo": {
     "elapsed": 128230,
     "status": "ok",
     "timestamp": 1746836631594,
     "user": {
      "displayName": "Eren Narin",
      "userId": "16039153764301371561"
     },
     "user_tz": -180
    },
    "id": "UHJMJ5KopMLk",
    "outputId": "2ada0225-3058-4c83-89de-4a097be4c98b"
   },
   "outputs": [
    {
     "output_type": "stream",
     "name": "stdout",
     "text": [
      "val_captions not found, starting to process...\n",
      "train_captions not found, starting to process...\n",
      "test_captions not found, starting to process...\n"
     ]
    }
   ],
   "source": [
    "from google.colab import userdata\n",
    "\n",
    "data_path = userdata.get('DATA_PATH')  # Add data path as a Colab secret or give the direct path of the data\n",
    "images_folder = \"resized/\"\n",
    "captions_path = data_path + \"captions.csv\"\n",
    "\n",
    "df_input = pl.read_csv(captions_path, separator=\",\", glob=False)\n",
    "splits = df_input.select('split').unique()['split'].to_list()\n",
    "for split in splits:\n",
    "    filename = f\"{data_path}{split}_captions.jsonl\"\n",
    "    if True:  # not os.path.isfile(filename):  # TODO: enable this check\n",
    "        print(f\"{split}_captions not found, starting to process...\")\n",
    "        df_split = df_input.filter(pl.col('split') == split)\n",
    "        with open(filename, 'w') as f:\n",
    "            for row in df_split.iter_rows(named=True):\n",
    "                if os.path.isfile(f\"{data_path}{images_folder}{row['image']}\"):  # Skip the annotation if referenced image does not exist\n",
    "                    for i in range(1, 6):\n",
    "                        json_object = {\n",
    "                            \"prefix\": \"\",\n",
    "                            \"image\": f\"{images_folder}{row['image']}\",\n",
    "                            \"suffix\": row[f\"caption_{i}\"],  # TODO: remove duplicate samples\n",
    "                        }\n",
    "                        f.write(json.dumps(json_object) + '\\n')\n",
    "    else:\n",
    "        print(f\"{split}_captions is already processed, skipping...\")"
   ]
  },
  {
   "cell_type": "markdown",
   "source": [
    "Define preprocess and postprocess methods."
   ],
   "metadata": {
    "id": "UmCnKL7YU4zT"
   }
  },
  {
   "cell_type": "code",
   "execution_count": 10,
   "metadata": {
    "id": "8SRW0NuU4UcW",
    "executionInfo": {
     "status": "ok",
     "timestamp": 1746836631613,
     "user_tz": -180,
     "elapsed": 14,
     "user": {
      "displayName": "Eren Narin",
      "userId": "16039153764301371561"
     }
    }
   },
   "outputs": [],
   "source": [
    "def preprocess_image(image, size=224):\n",
    "    # Model has been trained to handle images of different aspects ratios\n",
    "    # resized to 224x224 in the range [-1, 1]. Bilinear and antialias resize\n",
    "    # options are helpful to improve quality in some tasks.\n",
    "\n",
    "    image = np.asarray(image)\n",
    "    if image.ndim == 2:  # Convert image without last channel into greyscale.\n",
    "        image = np.stack((image,) * 3, axis=-1)\n",
    "    image = image[..., :3]  # Remove alpha layer.\n",
    "    assert image.shape[-1] == 3\n",
    "\n",
    "    image = tf.constant(image)\n",
    "    image = tf.image.resize(image, (size, size), method='bilinear', antialias=True)\n",
    "    return image.numpy() / 127.5 - 1.0  # [0, 255]->[-1,1]\n",
    "\n",
    "\n",
    "def preprocess_tokens(prefix, suffix=None, seqlen=None):\n",
    "    # Model has been trained to handle tokenized text composed of a prefix with\n",
    "    # full attention and a suffix with causal attention.\n",
    "    separator = \"\\n\"\n",
    "    tokens = tokenizer.encode(prefix, add_bos=True) + tokenizer.encode(separator)\n",
    "    mask_ar = [0] * len(tokens)  # 0 to use full attention for prefix.\n",
    "    mask_loss = [0] * len(tokens)  # 0 to not use prefix tokens in the loss.\n",
    "\n",
    "    if suffix:\n",
    "        suffix = tokenizer.encode(suffix, add_eos=True)\n",
    "        tokens += suffix\n",
    "        mask_ar += [1] * len(suffix)  # 1 to use causal attention for suffix.\n",
    "        mask_loss += [1] * len(suffix)  # 1 to use suffix tokens in the loss.\n",
    "\n",
    "    mask_input = [1] * len(tokens)  # 1 if it's a token, 0 if padding.\n",
    "    if seqlen:\n",
    "        padding = [0] * max(0, seqlen - len(tokens))\n",
    "        tokens = tokens[:seqlen] + padding\n",
    "        mask_ar = mask_ar[:seqlen] + padding\n",
    "        mask_loss = mask_loss[:seqlen] + padding\n",
    "        mask_input = mask_input[:seqlen] + padding\n",
    "\n",
    "    return jax.tree.map(np.array, (tokens, mask_ar, mask_loss, mask_input))\n",
    "\n",
    "\n",
    "def postprocess_tokens(tokens):\n",
    "    tokens = tokens.tolist()  # np.array to list[int]\n",
    "    try:  # Remove tokens at and after EOS if any.\n",
    "        eos_pos = tokens.index(tokenizer.eos_id())\n",
    "        tokens = tokens[:eos_pos]\n",
    "    except ValueError:\n",
    "        pass\n",
    "    return tokenizer.decode(tokens)"
   ]
  },
  {
   "cell_type": "markdown",
   "source": [
    "Define the datasets and the data loaders."
   ],
   "metadata": {
    "id": "zMrzdA8vV9uI"
   }
  },
  {
   "cell_type": "code",
   "execution_count": 11,
   "metadata": {
    "id": "whzWOojGOtzi",
    "executionInfo": {
     "status": "ok",
     "timestamp": 1746836632873,
     "user_tz": -180,
     "elapsed": 1259,
     "user": {
      "displayName": "Eren Narin",
      "userId": "16039153764301371561"
     }
    }
   },
   "outputs": [],
   "source": [
    "SEQLEN = 128\n",
    "\n",
    "train_dataset = DataSource(\n",
    "    os.path.join(data_path, \"train_captions.jsonl\"),\n",
    "    fopen_keys={\"image\": data_path}\n",
    ")\n",
    "\n",
    "val_dataset = DataSource(\n",
    "    os.path.join(data_path, \"val_captions.jsonl\"),\n",
    "    fopen_keys={\"image\": data_path})\n",
    "\n",
    "\n",
    "def train_data_iterator():\n",
    "    \"\"\"Never ending iterator over training examples.\"\"\"\n",
    "    # Shuffle examples and repeat so one can train for many epochs.\n",
    "    dataset = train_dataset.get_tfdata().shuffle(1_000).repeat()\n",
    "    for example in dataset.as_numpy_iterator():\n",
    "        image = Image.open(io.BytesIO(example[\"image\"]))\n",
    "        image = preprocess_image(image)\n",
    "\n",
    "        # TODO: #\n",
    "        segments = slic(image, n_segments=(16*16), compactness=1000)  # (16*16), compactness=10)\n",
    "        # Shape: (num_regions, 224, 224)\n",
    "        region_masks = np.stack([(segments == i).astype(np.float32) for i in np.unique(segments)])\n",
    "        region_masks = jnp.array(region_masks)  # [None, 14, 14]  # TODO: Add batch dim\n",
    "        #########\n",
    "\n",
    "        prefix = \"caption en\"  # Could also be a different prefix per example.\n",
    "        suffix = example[\"suffix\"].decode().lower()\n",
    "        tokens, mask_ar, mask_loss, _ = preprocess_tokens(prefix, suffix, SEQLEN)\n",
    "\n",
    "        yield {\n",
    "            \"image\": np.asarray(image),\n",
    "            \"text\": np.asarray(tokens),\n",
    "            \"annotation\": np.asarray(tokens),\n",
    "            \"mask_ar\": np.asarray(mask_ar),\n",
    "            \"mask_loss\": np.asarray(mask_loss),\n",
    "            \"region_masks\": region_masks\n",
    "        }\n",
    "\n",
    "\n",
    "def validation_data_iterator():\n",
    "    \"\"\"Single iterator over validation examples.\"\"\"\n",
    "    for example in val_dataset.get_tfdata().as_numpy_iterator():  # TODO: for example in val_dataset.get_tfdata(ordered=True).as_numpy_iterator():\n",
    "        image = Image.open(io.BytesIO(example[\"image\"]))\n",
    "        image = preprocess_image(image)\n",
    "\n",
    "        # TODO: #\n",
    "        segments = slic(image, n_segments=(16*16), compactness=1000)  # (16*16), compactness=10)\n",
    "        # Shape: (num_regions, 224, 224)\n",
    "        region_masks = np.stack([(segments == i).astype(np.float32) for i in np.unique(segments)])\n",
    "        region_masks = jnp.array(region_masks)  # [None, 14, 14]  # TODO: Add batch dim\n",
    "        #########\n",
    "\n",
    "        prefix = \"caption en\"  # Could also be a different prefix per example.\n",
    "        tokens, mask_ar, _, mask_input = preprocess_tokens(prefix, seqlen=SEQLEN)\n",
    "\n",
    "        suffix = example[\"suffix\"].decode().lower()\n",
    "        tmp_tokens, _, _, _ = preprocess_tokens(prefix, suffix, SEQLEN)\n",
    "\n",
    "        yield {\n",
    "            \"image\": np.asarray(image),\n",
    "            \"text\": np.asarray(tokens),\n",
    "            \"annotation\": np.asarray(tmp_tokens),\n",
    "            \"mask_ar\": np.asarray(mask_ar),\n",
    "            \"mask_input\": np.asarray(mask_input),\n",
    "            \"region_masks\": region_masks\n",
    "        }"
   ]
  },
  {
   "cell_type": "markdown",
   "source": [
    "Display some examples from the training dataset."
   ],
   "metadata": {
    "id": "L7bOgixzWFvi"
   }
  },
  {
   "cell_type": "code",
   "execution_count": 12,
   "metadata": {
    "colab": {
     "base_uri": "https://localhost:8080/",
     "height": 316
    },
    "executionInfo": {
     "elapsed": 37359,
     "status": "ok",
     "timestamp": 1746836670237,
     "user": {
      "displayName": "Eren Narin",
      "userId": "16039153764301371561"
     },
     "user_tz": -180
    },
    "id": "BzJfb5t0nsLq",
    "outputId": "0062013f-fe3d-4cf1-cc59-4e3d60fb0021"
   },
   "outputs": [
    {
     "output_type": "stream",
     "name": "stdout",
     "text": [
      "Training examples\n"
     ]
    },
    {
     "output_type": "display_data",
     "data": {
      "text/plain": [
       "<IPython.core.display.HTML object>"
      ],
      "text/html": [
       "\n",
       "    <div style=\"display: inline-flex; align-items: center; justify-content: center;\">\n",
       "        <img style=\"width:128px; height:128px;\" src=\"data:image/jpeg;base64,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\" />\n",
       "        <p style=\"width:256px; margin:10px; font-size:small;\">neatly planned factories and roads in an industrial area with green belts .</p>\n",
       "        \n",
       "    </div>\n",
       "    \n",
       "    <div style=\"display: inline-flex; align-items: center; justify-content: center;\">\n",
       "        <img style=\"width:128px; height:128px;\" src=\"data:image/jpeg;base64,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\" />\n",
       "        <p style=\"width:256px; margin:10px; font-size:small;\">there are brown and black buildings on dense residential area .</p>\n",
       "        \n",
       "    </div>\n",
       "    \n",
       "    <div style=\"display: inline-flex; align-items: center; justify-content: center;\">\n",
       "        <img style=\"width:128px; height:128px;\" src=\"data:image/jpeg;base64,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\" />\n",
       "        <p style=\"width:256px; margin:10px; font-size:small;\">a playground with basketball fields next to it is surrounded by many buildings and a baseball field .</p>\n",
       "        \n",
       "    </div>\n",
       "    "
      ]
     },
     "metadata": {}
    },
    {
     "output_type": "stream",
     "name": "stdout",
     "text": [
      "Validation examples\n"
     ]
    },
    {
     "output_type": "display_data",
     "data": {
      "text/plain": [
       "<IPython.core.display.HTML object>"
      ],
      "text/html": [
       "\n",
       "    <div style=\"display: inline-flex; align-items: center; justify-content: center;\">\n",
       "        <img style=\"width:128px; height:128px;\" src=\"data:image/jpeg;base64,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\" />\n",
       "        <p style=\"width:256px; margin:10px; font-size:small;\">there are some building with grey roofs .</p>\n",
       "        \n",
       "    </div>\n",
       "    \n",
       "    <div style=\"display: inline-flex; align-items: center; justify-content: center;\">\n",
       "        <img style=\"width:128px; height:128px;\" src=\"data:image/jpeg;base64,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\" />\n",
       "        <p style=\"width:256px; margin:10px; font-size:small;\">the house with brown roof is surrounded by dense woods .</p>\n",
       "        \n",
       "    </div>\n",
       "    \n",
       "    <div style=\"display: inline-flex; align-items: center; justify-content: center;\">\n",
       "        <img style=\"width:128px; height:128px;\" src=\"data:image/jpeg;base64,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\" />\n",
       "        <p style=\"width:256px; margin:10px; font-size:small;\">the basketball court is between the lawn and tree with many cars parking on .</p>\n",
       "        \n",
       "    </div>\n",
       "    "
      ]
     },
     "metadata": {}
    }
   ],
   "source": [
    "def render_inline(image, resize=(128, 128)):\n",
    "    \"\"\"Convert image into inline html.\"\"\"\n",
    "    image = Image.fromarray(image)\n",
    "    image.resize(resize)\n",
    "    with io.BytesIO() as buffer:\n",
    "        image.save(buffer, format='jpeg')\n",
    "        image_b64 = str(base64.b64encode(buffer.getvalue()), \"utf-8\")\n",
    "        return f\"data:image/jpeg;base64,{image_b64}\"\n",
    "\n",
    "\n",
    "def render_example(image, caption, annotation=None):\n",
    "    image = ((image + 1) / 2 * 255).astype(np.uint8)  # [-1,1] -> [0, 255]\n",
    "    annotation_div = \"\"\n",
    "    if annotation:\n",
    "        annotation_div = f\"\"\"\n",
    "            <br/>\n",
    "            <p style=\"width:256px; margin:10px; font-size:small;\">{html.escape(annotation)}</p>\n",
    "        \"\"\"\n",
    "    return f\"\"\"\n",
    "    <div style=\"display: inline-flex; align-items: center; justify-content: center;\">\n",
    "        <img style=\"width:128px; height:128px;\" src=\"{render_inline(image, resize=(64, 64))}\" />\n",
    "        <p style=\"width:256px; margin:10px; font-size:small;\">{html.escape(caption)}</p>\n",
    "        {annotation_div}\n",
    "    </div>\n",
    "    \"\"\"\n",
    "\n",
    "html_out = \"\"\n",
    "for idx, example in zip(range(3), train_data_iterator()):\n",
    "    caption = postprocess_tokens(example[\"annotation\"])  # detokenize model input.\n",
    "    caption = caption[len(\"caption en\\n\"):]  # strip prefix\n",
    "    html_out += render_example(example[\"image\"], caption)\n",
    "\n",
    "print(\"Training examples\")\n",
    "display(HTML(html_out))\n",
    "\n",
    "html_out = \"\"\n",
    "for idx, example in zip(range(3), validation_data_iterator()):\n",
    "    caption = postprocess_tokens(example[\"annotation\"])  # detokenize model input.\n",
    "    caption = caption[len(\"caption en\\n\"):]  # strip prefix\n",
    "    html_out += render_example(example[\"image\"], caption)\n",
    "\n",
    "print(\"Validation examples\")\n",
    "display(HTML(html_out))"
   ]
  },
  {
   "cell_type": "markdown",
   "source": [
    "Define loss and inference functions."
   ],
   "metadata": {
    "id": "HIOg_hm1eaLF"
   }
  },
  {
   "cell_type": "code",
   "execution_count": 13,
   "metadata": {
    "id": "dwUV_imW3WQJ",
    "executionInfo": {
     "status": "ok",
     "timestamp": 1746836670247,
     "user_tz": -180,
     "elapsed": 8,
     "user": {
      "displayName": "Eren Narin",
      "userId": "16039153764301371561"
     }
    }
   },
   "outputs": [],
   "source": [
    "# The main update_fn using a simple stochastic gradient descent (SGD).\n",
    "@functools.partial(jax.jit, donate_argnums=(0,))\n",
    "def update_fn(params, batch, learning_rate):\n",
    "    imgs, txts, mask_ar, region_masks = batch[\"image\"], batch[\"text\"], batch[\"mask_ar\"], batch[\"region_masks\"]\n",
    "\n",
    "    def loss_fn(params):\n",
    "        text_logits, _ = model.apply({\"params\": params}, imgs, txts[:, :-1], mask_ar[:, :-1], train=True, region_masks=region_masks)\n",
    "        logp = jax.nn.log_softmax(text_logits, axis=-1)\n",
    "\n",
    "        # The model takes as input txts[:, :-1] but the loss is defined as predicting\n",
    "        # next tokens txts[:, 1:]. Additionally, mask_loss[:, 1:] indicates which tokens\n",
    "        # are part of the loss (e.g. prefix and padded tokens are not included).\n",
    "        mask_loss = batch[\"mask_loss\"][:, 1:]\n",
    "        targets = jax.nn.one_hot(txts[:, 1:], text_logits.shape[-1])\n",
    "\n",
    "        # Compute the loss per example. i.e. the mean of per token pplx.\n",
    "        # Since each example has a different number of tokens, normalize it.\n",
    "        token_pplx = jnp.sum(logp * targets, axis=-1)  # sum across vocab_size.\n",
    "        example_loss = -jnp.sum(token_pplx * mask_loss, axis=-1)  # sum across seq_len.\n",
    "        example_loss /= jnp.clip(jnp.sum(mask_loss, -1), 1)  # weight by num of tokens.\n",
    "\n",
    "        # batch_loss: mean of per example loss.\n",
    "        return jnp.mean(example_loss)\n",
    "\n",
    "    loss, grads = jax.value_and_grad(loss_fn)(params)\n",
    "\n",
    "    # Apply gradients to trainable params using SGD.\n",
    "    def apply_grad(param, gradient, trainable):\n",
    "        if not trainable: return param\n",
    "        return param - learning_rate * gradient\n",
    "\n",
    "    params = jax.tree_util.tree_map(apply_grad, params, grads, trainable_mask)\n",
    "\n",
    "    return params, loss\n",
    "\n",
    "# Evaluation/inference loop.\n",
    "def make_predictions(data_iterator, *, params, num_examples=None,\n",
    "                     batch_size=4, seqlen=SEQLEN, sampler=\"greedy\"):\n",
    "    outputs = []\n",
    "    while True:\n",
    "        # Construct a list of examples in the batch.\n",
    "        examples = []\n",
    "        try:\n",
    "            for _ in range(batch_size):\n",
    "                examples.append(next(data_iterator))\n",
    "                examples[-1][\"_mask\"] = np.array(True)  # Indicates true example.\n",
    "        except StopIteration:\n",
    "            if len(examples) == 0:\n",
    "                return outputs\n",
    "\n",
    "        # Not enough examples to complete a batch. Pad by repeating last example.\n",
    "        while len(examples) % batch_size:\n",
    "            examples.append(dict(examples[-1]))\n",
    "            examples[-1][\"_mask\"] = np.array(False)  # Indicates padding example.\n",
    "\n",
    "        # Convert list of examples into a dict of np.arrays and load onto devices.\n",
    "        batch = jax.tree.map(lambda *x: np.stack(x), *examples)\n",
    "        batch = reshard(batch, data_sharding)\n",
    "\n",
    "        # Make model predictions\n",
    "        tokens = decode({\"params\": params}, batch=batch,\n",
    "                        max_decode_len=seqlen, sampler=sampler)\n",
    "\n",
    "        # Fetch model predictions to device and detokenize.\n",
    "        tokens, mask = jax.device_get((tokens, batch[\"_mask\"]))\n",
    "        tokens = tokens[mask]  # remove padding examples.\n",
    "        responses = [postprocess_tokens(t) for t in tokens]\n",
    "\n",
    "        # Append to html output.\n",
    "        for example, response in zip(examples, responses):\n",
    "            caption = postprocess_tokens(example[\"annotation\"])  # detokenize model input.\n",
    "            caption = caption[len(\"caption en\\n\"):]  # strip prefix\n",
    "            outputs.append((example[\"image\"], response, caption))\n",
    "            if num_examples and len(outputs) >= num_examples:\n",
    "                return outputs"
   ]
  },
  {
   "cell_type": "markdown",
   "source": [
    "Initialize the W&B project and define the hyperparameters to be tested."
   ],
   "metadata": {
    "id": "ZXlRidIHhINn"
   }
  },
  {
   "cell_type": "code",
   "source": [
    "import wandb\n",
    "\n",
    "wandb.login(key=userdata.get('WANDB_KEY'))\n",
    "\n",
    "PROJECT_NAME = \"DI725_project_2389088_tokenizer-test\""
   ],
   "metadata": {
    "colab": {
     "base_uri": "https://localhost:8080/"
    },
    "id": "zxU0n1RQhHX7",
    "executionInfo": {
     "status": "ok",
     "timestamp": 1746836675098,
     "user_tz": -180,
     "elapsed": 4839,
     "user": {
      "displayName": "Eren Narin",
      "userId": "16039153764301371561"
     }
    },
    "outputId": "22baa16e-dffb-4f6c-c596-b0541efacab1"
   },
   "execution_count": 14,
   "outputs": [
    {
     "output_type": "stream",
     "name": "stderr",
     "text": [
      "\u001B[34m\u001B[1mwandb\u001B[0m: \u001B[33mWARNING\u001B[0m If you're specifying your api key in code, ensure this code is not shared publicly.\n",
      "\u001B[34m\u001B[1mwandb\u001B[0m: \u001B[33mWARNING\u001B[0m Consider setting the WANDB_API_KEY environment variable, or running `wandb login` from the command line.\n",
      "\u001B[34m\u001B[1mwandb\u001B[0m: No netrc file found, creating one.\n",
      "\u001B[34m\u001B[1mwandb\u001B[0m: Appending key for api.wandb.ai to your netrc file: /root/.netrc\n",
      "\u001B[34m\u001B[1mwandb\u001B[0m: Currently logged in as: \u001B[33merennarin-92\u001B[0m (\u001B[33merennarin-92-metu-middle-east-technical-university\u001B[0m) to \u001B[32mhttps://api.wandb.ai\u001B[0m. Use \u001B[1m`wandb login --relogin`\u001B[0m to force relogin\n"
     ]
    }
   ]
  },
  {
   "cell_type": "markdown",
   "source": [
    "Start the training with W&B sweeps."
   ],
   "metadata": {
    "id": "aVDHTykfkQti"
   }
  },
  {
   "cell_type": "code",
   "execution_count": 15,
   "metadata": {
    "id": "067wj_6bZAG3",
    "executionInfo": {
     "status": "ok",
     "timestamp": 1746836677165,
     "user_tz": -180,
     "elapsed": 2066,
     "user": {
      "displayName": "Eren Narin",
      "userId": "16039153764301371561"
     }
    }
   },
   "outputs": [],
   "source": [
    "from rouge_score import rouge_scorer\n",
    "\n",
    "eval_methods = ['rouge1', 'rougeL', 'rougeLsum']\n",
    "\n",
    "def train(batch_size, epochs, learning_rate):\n",
    "    wandb.init(project=PROJECT_NAME)\n",
    "\n",
    "    BATCH_SIZE = batch_size\n",
    "    TRAIN_EXAMPLES = epochs\n",
    "    LEARNING_RATE = learning_rate\n",
    "    wandb.log({\"batch_size\": batch_size})\n",
    "    wandb.log({\"epochs\": epochs})\n",
    "\n",
    "    TRAIN_STEPS = TRAIN_EXAMPLES // BATCH_SIZE\n",
    "    EVAL_STEPS = TRAIN_STEPS // 256\n",
    "    EVAL_EXAMPLES = 4\n",
    "\n",
    "    train_data_it = train_data_iterator()\n",
    "\n",
    "    train_params = params.copy()\n",
    "\n",
    "    sched_fn = create_learning_rate_schedule(\n",
    "        total_steps=TRAIN_STEPS + 1, base=LEARNING_RATE,\n",
    "        decay_type=\"cosine\", warmup_percent=0.10)\n",
    "\n",
    "    for step in range(1, TRAIN_STEPS + 1):\n",
    "        # Make list of N training examples.\n",
    "        examples = [next(train_data_it) for _ in range(BATCH_SIZE)]\n",
    "\n",
    "        # Convert list of examples into a dict of np.arrays and load onto devices.\n",
    "        batch = jax.tree.map(lambda *x: np.stack(x), *examples)\n",
    "        batch = reshard(batch, data_sharding)\n",
    "\n",
    "        # Training step and report training loss\n",
    "        learning_rate = sched_fn(step)\n",
    "        train_params, loss = update_fn(train_params, batch, learning_rate)\n",
    "\n",
    "        loss = jax.device_get(loss)\n",
    "        print(f\"step: {step:2d}/{TRAIN_STEPS:2d}   lr: {learning_rate:.5f}   loss: {loss:.4f}\")\n",
    "        wandb.log({\"step\": step, \"learning_rate\": learning_rate})\n",
    "        wandb.log({\"step\": step, \"train_loss\": loss})\n",
    "\n",
    "        if (step % EVAL_STEPS) == 0:\n",
    "            print(f\"Model predictions at step {step}\")\n",
    "            html_out = \"\"\n",
    "            sum_score = 0\n",
    "            for image, caption, annotation in make_predictions(\n",
    "                    validation_data_iterator(), params=train_params, num_examples=EVAL_EXAMPLES, batch_size=BATCH_SIZE):  # TODO: make multiple predictions and get the average score\n",
    "                # Evaluation\n",
    "                scorer = rouge_scorer.RougeScorer(eval_methods, use_stemmer=True)\n",
    "                scores = scorer.score(caption, annotation)\n",
    "                sum_score += scores['rouge1'].fmeasure\n",
    "                #print(f\"Caption: {caption}\")\n",
    "                #print(f\"Annotation: {annotation}\")\n",
    "                for method in eval_methods:\n",
    "                    wandb.log({\"step\": step, f\"{method}_score\": scores[method].fmeasure})\n",
    "                    wandb.log({\"step\": step, f\"{method}_recall\": scores[method].recall})\n",
    "                    wandb.log({\"step\": step, f\"{method}_precision\": scores[method].precision})\n",
    "                    print(f\"{method}_score at step {step}: {scores[method].fmeasure}\")\n",
    "                html_out += render_example(image, caption, annotation)\n",
    "            wandb.log({\"step\": step, \"avg_rouge1_score\": sum_score / EVAL_EXAMPLES})\n",
    "            print(f\"Average rouge1 score at step {step}: {sum_score / EVAL_EXAMPLES}\")\n",
    "            display(HTML(html_out))"
   ]
  },
  {
   "cell_type": "code",
   "source": [
    "import itertools\n",
    "\n",
    "hyperparameters = {\n",
    "    \"batch_size\": [4],        #[4]\n",
    "    \"epochs\": [4096],         #[4096]\n",
    "    \"learning_rate\": [0.01],  #[0.01]\n",
    "}\n",
    "\n",
    "keys = list(hyperparameters.keys())\n",
    "values = list(hyperparameters.values())\n",
    "\n",
    "for value in itertools.product(*values):\n",
    "    config = dict(zip(keys, value))\n",
    "    print(config)\n",
    "    train(**config)\n",
    "    print(\"Training completed, checking for new configuration.\")\n",
    "print(\"Training completed.\")"
   ],
   "metadata": {
    "colab": {
     "base_uri": "https://localhost:8080/",
     "height": 1000,
     "output_embedded_package_id": "1AM5kyGwAgXBkSr3hWjXUJ1Rw-lM-07vC"
    },
    "id": "fnLBCkc2-9f2",
    "outputId": "ff0eb3d6-83fd-4b55-fc0e-255b2a72653f",
    "executionInfo": {
     "status": "error",
     "timestamp": 1746889598806,
     "user_tz": -180,
     "elapsed": 52921640,
     "user": {
      "displayName": "Eren Narin",
      "userId": "16039153764301371561"
     }
    }
   },
   "execution_count": 16,
   "outputs": [
    {
     "output_type": "display_data",
     "data": {
      "text/plain": "Output hidden; open in https://colab.research.google.com to view."
     },
     "metadata": {}
    }
   ]
  }
 ],
 "metadata": {
  "colab": {
   "provenance": [
    {
     "file_id": "https://github.com/google/generative-ai-docs/blob/main/site/en/gemma/docs/paligemma/fine-tuning-paligemma.ipynb",
     "timestamp": 1744917295319
    }
   ],
   "machine_shape": "hm"
  },
  "kernelspec": {
   "display_name": "Python 3",
   "name": "python3"
  }
 },
 "nbformat": 4,
 "nbformat_minor": 0
}
