{
 "cells": [
  {
   "cell_type": "markdown",
   "source": [
    "This notebook for fine-tuning the PaliGemma model wit the RISCM dataset and testing some model performance improvement suggestions.\n",
    "\n",
    "Install the required packages with the following commands."
   ],
   "metadata": {
    "id": "0tUFofBAOlkK"
   }
  },
  {
   "cell_type": "code",
   "source": [
    "!pip install tensorflow overrides ml_collections sentencepiece einops~=0.7 jax ipython pillow scikit-image matplotlib flax kagglehub polars keras-nightly wandb pycocoevalcap language-tool-python bert-score textstat hf_xet rouge_score\n",
    "# !pip install -U \"jax[cuda12]\"\n",
    "\n",
    "!apt-get update\n",
    "!apt-get install -y openjdk-17-jdk\n",
    "!update-alternatives --set java /usr/lib/jvm/java-17-openjdk-amd64/bin/java\n",
    "!update-alternatives --set javac /usr/lib/jvm/java-17-openjdk-amd64/bin/javac"
   ],
   "metadata": {
    "colab": {
     "base_uri": "https://localhost:8080/"
    },
    "id": "Rcb9SuRkiToS",
    "executionInfo": {
     "status": "ok",
     "timestamp": 1747497052636,
     "user_tz": -180,
     "elapsed": 24458,
     "user": {
      "displayName": "Eren Narin",
      "userId": "16039153764301371561"
     }
    },
    "outputId": "b130881b-979b-4621-fec7-e8c1ed8dd82e"
   },
   "execution_count": 1,
   "outputs": [
    {
     "output_type": "stream",
     "name": "stdout",
     "text": [
      "Requirement already satisfied: tensorflow in /usr/local/lib/python3.11/dist-packages (2.18.0)\n",
      "Requirement already satisfied: overrides in /usr/local/lib/python3.11/dist-packages (7.7.0)\n",
      "Requirement already satisfied: ml_collections in /usr/local/lib/python3.11/dist-packages (1.1.0)\n",
      "Requirement already satisfied: sentencepiece in /usr/local/lib/python3.11/dist-packages (0.2.0)\n",
      "Requirement already satisfied: einops~=0.7 in /usr/local/lib/python3.11/dist-packages (0.8.1)\n",
      "Requirement already satisfied: jax in /usr/local/lib/python3.11/dist-packages (0.5.2)\n",
      "Requirement already satisfied: ipython in /usr/local/lib/python3.11/dist-packages (7.34.0)\n",
      "Requirement already satisfied: pillow in /usr/local/lib/python3.11/dist-packages (11.2.1)\n",
      "Requirement already satisfied: scikit-image in /usr/local/lib/python3.11/dist-packages (0.25.2)\n",
      "Requirement already satisfied: matplotlib in /usr/local/lib/python3.11/dist-packages (3.10.0)\n",
      "Requirement already satisfied: flax in /usr/local/lib/python3.11/dist-packages (0.10.6)\n",
      "Requirement already satisfied: kagglehub in /usr/local/lib/python3.11/dist-packages (0.3.12)\n",
      "Requirement already satisfied: polars in /usr/local/lib/python3.11/dist-packages (1.21.0)\n",
      "Requirement already satisfied: keras-nightly in /usr/local/lib/python3.11/dist-packages (3.10.0.dev2025051703)\n",
      "Requirement already satisfied: wandb in /usr/local/lib/python3.11/dist-packages (0.19.11)\n",
      "Requirement already satisfied: pycocoevalcap in /usr/local/lib/python3.11/dist-packages (1.2)\n",
      "Requirement already satisfied: language-tool-python in /usr/local/lib/python3.11/dist-packages (2.9.3)\n",
      "Requirement already satisfied: bert-score in /usr/local/lib/python3.11/dist-packages (0.3.13)\n",
      "Requirement already satisfied: textstat in /usr/local/lib/python3.11/dist-packages (0.7.7)\n",
      "Requirement already satisfied: hf_xet in /usr/local/lib/python3.11/dist-packages (1.1.2)\n",
      "Requirement already satisfied: rouge_score in /usr/local/lib/python3.11/dist-packages (0.1.2)\n",
      "Requirement already satisfied: absl-py>=1.0.0 in /usr/local/lib/python3.11/dist-packages (from tensorflow) (1.4.0)\n",
      "Requirement already satisfied: astunparse>=1.6.0 in /usr/local/lib/python3.11/dist-packages (from tensorflow) (1.6.3)\n",
      "Requirement already satisfied: flatbuffers>=24.3.25 in /usr/local/lib/python3.11/dist-packages (from tensorflow) (25.2.10)\n",
      "Requirement already satisfied: gast!=0.5.0,!=0.5.1,!=0.5.2,>=0.2.1 in /usr/local/lib/python3.11/dist-packages (from tensorflow) (0.6.0)\n",
      "Requirement already satisfied: google-pasta>=0.1.1 in /usr/local/lib/python3.11/dist-packages (from tensorflow) (0.2.0)\n",
      "Requirement already satisfied: libclang>=13.0.0 in /usr/local/lib/python3.11/dist-packages (from tensorflow) (18.1.1)\n",
      "Requirement already satisfied: opt-einsum>=2.3.2 in /usr/local/lib/python3.11/dist-packages (from tensorflow) (3.4.0)\n",
      "Requirement already satisfied: packaging in /usr/local/lib/python3.11/dist-packages (from tensorflow) (24.2)\n",
      "Requirement already satisfied: protobuf!=4.21.0,!=4.21.1,!=4.21.2,!=4.21.3,!=4.21.4,!=4.21.5,<6.0.0dev,>=3.20.3 in /usr/local/lib/python3.11/dist-packages (from tensorflow) (5.29.4)\n",
      "Requirement already satisfied: requests<3,>=2.21.0 in /usr/local/lib/python3.11/dist-packages (from tensorflow) (2.32.3)\n",
      "Requirement already satisfied: setuptools in /usr/local/lib/python3.11/dist-packages (from tensorflow) (75.2.0)\n",
      "Requirement already satisfied: six>=1.12.0 in /usr/local/lib/python3.11/dist-packages (from tensorflow) (1.17.0)\n",
      "Requirement already satisfied: termcolor>=1.1.0 in /usr/local/lib/python3.11/dist-packages (from tensorflow) (3.1.0)\n",
      "Requirement already satisfied: typing-extensions>=3.6.6 in /usr/local/lib/python3.11/dist-packages (from tensorflow) (4.13.2)\n",
      "Requirement already satisfied: wrapt>=1.11.0 in /usr/local/lib/python3.11/dist-packages (from tensorflow) (1.17.2)\n",
      "Requirement already satisfied: grpcio<2.0,>=1.24.3 in /usr/local/lib/python3.11/dist-packages (from tensorflow) (1.71.0)\n",
      "Requirement already satisfied: tensorboard<2.19,>=2.18 in /usr/local/lib/python3.11/dist-packages (from tensorflow) (2.18.0)\n",
      "Requirement already satisfied: keras>=3.5.0 in /usr/local/lib/python3.11/dist-packages (from tensorflow) (3.8.0)\n",
      "Requirement already satisfied: numpy<2.1.0,>=1.26.0 in /usr/local/lib/python3.11/dist-packages (from tensorflow) (2.0.2)\n",
      "Requirement already satisfied: h5py>=3.11.0 in /usr/local/lib/python3.11/dist-packages (from tensorflow) (3.13.0)\n",
      "Requirement already satisfied: ml-dtypes<0.5.0,>=0.4.0 in /usr/local/lib/python3.11/dist-packages (from tensorflow) (0.4.1)\n",
      "Requirement already satisfied: tensorflow-io-gcs-filesystem>=0.23.1 in /usr/local/lib/python3.11/dist-packages (from tensorflow) (0.37.1)\n",
      "Requirement already satisfied: PyYAML in /usr/local/lib/python3.11/dist-packages (from ml_collections) (6.0.2)\n",
      "Requirement already satisfied: jaxlib<=0.5.2,>=0.5.1 in /usr/local/lib/python3.11/dist-packages (from jax) (0.5.1)\n",
      "Requirement already satisfied: scipy>=1.11.1 in /usr/local/lib/python3.11/dist-packages (from jax) (1.15.3)\n",
      "Requirement already satisfied: jedi>=0.16 in /usr/local/lib/python3.11/dist-packages (from ipython) (0.19.2)\n",
      "Requirement already satisfied: decorator in /usr/local/lib/python3.11/dist-packages (from ipython) (4.4.2)\n",
      "Requirement already satisfied: pickleshare in /usr/local/lib/python3.11/dist-packages (from ipython) (0.7.5)\n",
      "Requirement already satisfied: traitlets>=4.2 in /usr/local/lib/python3.11/dist-packages (from ipython) (5.7.1)\n",
      "Requirement already satisfied: prompt-toolkit!=3.0.0,!=3.0.1,<3.1.0,>=2.0.0 in /usr/local/lib/python3.11/dist-packages (from ipython) (3.0.51)\n",
      "Requirement already satisfied: pygments in /usr/local/lib/python3.11/dist-packages (from ipython) (2.19.1)\n",
      "Requirement already satisfied: backcall in /usr/local/lib/python3.11/dist-packages (from ipython) (0.2.0)\n",
      "Requirement already satisfied: matplotlib-inline in /usr/local/lib/python3.11/dist-packages (from ipython) (0.1.7)\n",
      "Requirement already satisfied: pexpect>4.3 in /usr/local/lib/python3.11/dist-packages (from ipython) (4.9.0)\n",
      "Requirement already satisfied: networkx>=3.0 in /usr/local/lib/python3.11/dist-packages (from scikit-image) (3.4.2)\n",
      "Requirement already satisfied: imageio!=2.35.0,>=2.33 in /usr/local/lib/python3.11/dist-packages (from scikit-image) (2.37.0)\n",
      "Requirement already satisfied: tifffile>=2022.8.12 in /usr/local/lib/python3.11/dist-packages (from scikit-image) (2025.5.10)\n",
      "Requirement already satisfied: lazy-loader>=0.4 in /usr/local/lib/python3.11/dist-packages (from scikit-image) (0.4)\n",
      "Requirement already satisfied: contourpy>=1.0.1 in /usr/local/lib/python3.11/dist-packages (from matplotlib) (1.3.2)\n",
      "Requirement already satisfied: cycler>=0.10 in /usr/local/lib/python3.11/dist-packages (from matplotlib) (0.12.1)\n",
      "Requirement already satisfied: fonttools>=4.22.0 in /usr/local/lib/python3.11/dist-packages (from matplotlib) (4.58.0)\n",
      "Requirement already satisfied: kiwisolver>=1.3.1 in /usr/local/lib/python3.11/dist-packages (from matplotlib) (1.4.8)\n",
      "Requirement already satisfied: pyparsing>=2.3.1 in /usr/local/lib/python3.11/dist-packages (from matplotlib) (3.2.3)\n",
      "Requirement already satisfied: python-dateutil>=2.7 in /usr/local/lib/python3.11/dist-packages (from matplotlib) (2.9.0.post0)\n",
      "Requirement already satisfied: msgpack in /usr/local/lib/python3.11/dist-packages (from flax) (1.1.0)\n",
      "Requirement already satisfied: optax in /usr/local/lib/python3.11/dist-packages (from flax) (0.2.4)\n",
      "Requirement already satisfied: orbax-checkpoint in /usr/local/lib/python3.11/dist-packages (from flax) (0.11.13)\n",
      "Requirement already satisfied: tensorstore in /usr/local/lib/python3.11/dist-packages (from flax) (0.1.74)\n",
      "Requirement already satisfied: rich>=11.1 in /usr/local/lib/python3.11/dist-packages (from flax) (13.9.4)\n",
      "Requirement already satisfied: treescope>=0.1.7 in /usr/local/lib/python3.11/dist-packages (from flax) (0.1.9)\n",
      "Requirement already satisfied: tqdm in /usr/local/lib/python3.11/dist-packages (from kagglehub) (4.67.1)\n",
      "Requirement already satisfied: namex in /usr/local/lib/python3.11/dist-packages (from keras-nightly) (0.0.9)\n",
      "Requirement already satisfied: optree in /usr/local/lib/python3.11/dist-packages (from keras-nightly) (0.15.0)\n",
      "Requirement already satisfied: click!=8.0.0,>=7.1 in /usr/local/lib/python3.11/dist-packages (from wandb) (8.2.0)\n",
      "Requirement already satisfied: docker-pycreds>=0.4.0 in /usr/local/lib/python3.11/dist-packages (from wandb) (0.4.0)\n",
      "Requirement already satisfied: gitpython!=3.1.29,>=1.0.0 in /usr/local/lib/python3.11/dist-packages (from wandb) (3.1.44)\n",
      "Requirement already satisfied: platformdirs in /usr/local/lib/python3.11/dist-packages (from wandb) (4.3.8)\n",
      "Requirement already satisfied: psutil>=5.0.0 in /usr/local/lib/python3.11/dist-packages (from wandb) (5.9.5)\n",
      "Requirement already satisfied: pydantic<3 in /usr/local/lib/python3.11/dist-packages (from wandb) (2.11.4)\n",
      "Requirement already satisfied: sentry-sdk>=2.0.0 in /usr/local/lib/python3.11/dist-packages (from wandb) (2.28.0)\n",
      "Requirement already satisfied: setproctitle in /usr/local/lib/python3.11/dist-packages (from wandb) (1.3.6)\n",
      "Requirement already satisfied: pycocotools>=2.0.2 in /usr/local/lib/python3.11/dist-packages (from pycocoevalcap) (2.0.8)\n",
      "Requirement already satisfied: toml in /usr/local/lib/python3.11/dist-packages (from language-tool-python) (0.10.2)\n",
      "Requirement already satisfied: torch>=1.0.0 in /usr/local/lib/python3.11/dist-packages (from bert-score) (2.6.0+cu124)\n",
      "Requirement already satisfied: pandas>=1.0.1 in /usr/local/lib/python3.11/dist-packages (from bert-score) (2.2.2)\n",
      "Requirement already satisfied: transformers>=3.0.0 in /usr/local/lib/python3.11/dist-packages (from bert-score) (4.51.3)\n",
      "Requirement already satisfied: pyphen in /usr/local/lib/python3.11/dist-packages (from textstat) (0.17.2)\n",
      "Requirement already satisfied: cmudict in /usr/local/lib/python3.11/dist-packages (from textstat) (1.0.32)\n",
      "Requirement already satisfied: nltk in /usr/local/lib/python3.11/dist-packages (from rouge_score) (3.9.1)\n",
      "Requirement already satisfied: wheel<1.0,>=0.23.0 in /usr/local/lib/python3.11/dist-packages (from astunparse>=1.6.0->tensorflow) (0.45.1)\n",
      "Requirement already satisfied: gitdb<5,>=4.0.1 in /usr/local/lib/python3.11/dist-packages (from gitpython!=3.1.29,>=1.0.0->wandb) (4.0.12)\n",
      "Requirement already satisfied: parso<0.9.0,>=0.8.4 in /usr/local/lib/python3.11/dist-packages (from jedi>=0.16->ipython) (0.8.4)\n",
      "Requirement already satisfied: pytz>=2020.1 in /usr/local/lib/python3.11/dist-packages (from pandas>=1.0.1->bert-score) (2025.2)\n",
      "Requirement already satisfied: tzdata>=2022.7 in /usr/local/lib/python3.11/dist-packages (from pandas>=1.0.1->bert-score) (2025.2)\n",
      "Requirement already satisfied: ptyprocess>=0.5 in /usr/local/lib/python3.11/dist-packages (from pexpect>4.3->ipython) (0.7.0)\n",
      "Requirement already satisfied: wcwidth in /usr/local/lib/python3.11/dist-packages (from prompt-toolkit!=3.0.0,!=3.0.1,<3.1.0,>=2.0.0->ipython) (0.2.13)\n",
      "Requirement already satisfied: annotated-types>=0.6.0 in /usr/local/lib/python3.11/dist-packages (from pydantic<3->wandb) (0.7.0)\n",
      "Requirement already satisfied: pydantic-core==2.33.2 in /usr/local/lib/python3.11/dist-packages (from pydantic<3->wandb) (2.33.2)\n",
      "Requirement already satisfied: typing-inspection>=0.4.0 in /usr/local/lib/python3.11/dist-packages (from pydantic<3->wandb) (0.4.0)\n",
      "Requirement already satisfied: charset-normalizer<4,>=2 in /usr/local/lib/python3.11/dist-packages (from requests<3,>=2.21.0->tensorflow) (3.4.2)\n",
      "Requirement already satisfied: idna<4,>=2.5 in /usr/local/lib/python3.11/dist-packages (from requests<3,>=2.21.0->tensorflow) (3.10)\n",
      "Requirement already satisfied: urllib3<3,>=1.21.1 in /usr/local/lib/python3.11/dist-packages (from requests<3,>=2.21.0->tensorflow) (2.4.0)\n",
      "Requirement already satisfied: certifi>=2017.4.17 in /usr/local/lib/python3.11/dist-packages (from requests<3,>=2.21.0->tensorflow) (2025.4.26)\n",
      "Requirement already satisfied: markdown-it-py>=2.2.0 in /usr/local/lib/python3.11/dist-packages (from rich>=11.1->flax) (3.0.0)\n",
      "Requirement already satisfied: markdown>=2.6.8 in /usr/local/lib/python3.11/dist-packages (from tensorboard<2.19,>=2.18->tensorflow) (3.8)\n",
      "Requirement already satisfied: tensorboard-data-server<0.8.0,>=0.7.0 in /usr/local/lib/python3.11/dist-packages (from tensorboard<2.19,>=2.18->tensorflow) (0.7.2)\n",
      "Requirement already satisfied: werkzeug>=1.0.1 in /usr/local/lib/python3.11/dist-packages (from tensorboard<2.19,>=2.18->tensorflow) (3.1.3)\n",
      "Requirement already satisfied: filelock in /usr/local/lib/python3.11/dist-packages (from torch>=1.0.0->bert-score) (3.18.0)\n",
      "Requirement already satisfied: jinja2 in /usr/local/lib/python3.11/dist-packages (from torch>=1.0.0->bert-score) (3.1.6)\n",
      "Requirement already satisfied: fsspec in /usr/local/lib/python3.11/dist-packages (from torch>=1.0.0->bert-score) (2025.3.2)\n",
      "Requirement already satisfied: nvidia-cuda-nvrtc-cu12==12.4.127 in /usr/local/lib/python3.11/dist-packages (from torch>=1.0.0->bert-score) (12.4.127)\n",
      "Requirement already satisfied: nvidia-cuda-runtime-cu12==12.4.127 in /usr/local/lib/python3.11/dist-packages (from torch>=1.0.0->bert-score) (12.4.127)\n",
      "Requirement already satisfied: nvidia-cuda-cupti-cu12==12.4.127 in /usr/local/lib/python3.11/dist-packages (from torch>=1.0.0->bert-score) (12.4.127)\n",
      "Requirement already satisfied: nvidia-cudnn-cu12==9.1.0.70 in /usr/local/lib/python3.11/dist-packages (from torch>=1.0.0->bert-score) (9.1.0.70)\n",
      "Requirement already satisfied: nvidia-cublas-cu12==12.4.5.8 in /usr/local/lib/python3.11/dist-packages (from torch>=1.0.0->bert-score) (12.4.5.8)\n",
      "Requirement already satisfied: nvidia-cufft-cu12==11.2.1.3 in /usr/local/lib/python3.11/dist-packages (from torch>=1.0.0->bert-score) (11.2.1.3)\n",
      "Requirement already satisfied: nvidia-curand-cu12==10.3.5.147 in /usr/local/lib/python3.11/dist-packages (from torch>=1.0.0->bert-score) (10.3.5.147)\n",
      "Requirement already satisfied: nvidia-cusolver-cu12==11.6.1.9 in /usr/local/lib/python3.11/dist-packages (from torch>=1.0.0->bert-score) (11.6.1.9)\n",
      "Requirement already satisfied: nvidia-cusparse-cu12==12.3.1.170 in /usr/local/lib/python3.11/dist-packages (from torch>=1.0.0->bert-score) (12.3.1.170)\n",
      "Requirement already satisfied: nvidia-cusparselt-cu12==0.6.2 in /usr/local/lib/python3.11/dist-packages (from torch>=1.0.0->bert-score) (0.6.2)\n",
      "Requirement already satisfied: nvidia-nccl-cu12==2.21.5 in /usr/local/lib/python3.11/dist-packages (from torch>=1.0.0->bert-score) (2.21.5)\n",
      "Requirement already satisfied: nvidia-nvtx-cu12==12.4.127 in /usr/local/lib/python3.11/dist-packages (from torch>=1.0.0->bert-score) (12.4.127)\n",
      "Requirement already satisfied: nvidia-nvjitlink-cu12==12.4.127 in /usr/local/lib/python3.11/dist-packages (from torch>=1.0.0->bert-score) (12.4.127)\n",
      "Requirement already satisfied: triton==3.2.0 in /usr/local/lib/python3.11/dist-packages (from torch>=1.0.0->bert-score) (3.2.0)\n",
      "Requirement already satisfied: sympy==1.13.1 in /usr/local/lib/python3.11/dist-packages (from torch>=1.0.0->bert-score) (1.13.1)\n",
      "Requirement already satisfied: mpmath<1.4,>=1.1.0 in /usr/local/lib/python3.11/dist-packages (from sympy==1.13.1->torch>=1.0.0->bert-score) (1.3.0)\n",
      "Requirement already satisfied: huggingface-hub<1.0,>=0.30.0 in /usr/local/lib/python3.11/dist-packages (from transformers>=3.0.0->bert-score) (0.31.2)\n",
      "Requirement already satisfied: regex!=2019.12.17 in /usr/local/lib/python3.11/dist-packages (from transformers>=3.0.0->bert-score) (2024.11.6)\n",
      "Requirement already satisfied: tokenizers<0.22,>=0.21 in /usr/local/lib/python3.11/dist-packages (from transformers>=3.0.0->bert-score) (0.21.1)\n",
      "Requirement already satisfied: safetensors>=0.4.3 in /usr/local/lib/python3.11/dist-packages (from transformers>=3.0.0->bert-score) (0.5.3)\n",
      "Requirement already satisfied: importlib-metadata>=5 in /usr/local/lib/python3.11/dist-packages (from cmudict->textstat) (8.7.0)\n",
      "Requirement already satisfied: importlib-resources>=5 in /usr/local/lib/python3.11/dist-packages (from cmudict->textstat) (6.5.2)\n",
      "Requirement already satisfied: joblib in /usr/local/lib/python3.11/dist-packages (from nltk->rouge_score) (1.5.0)\n",
      "Requirement already satisfied: chex>=0.1.87 in /usr/local/lib/python3.11/dist-packages (from optax->flax) (0.1.89)\n",
      "Requirement already satisfied: etils[epy] in /usr/local/lib/python3.11/dist-packages (from optax->flax) (1.12.2)\n",
      "Requirement already satisfied: nest_asyncio in /usr/local/lib/python3.11/dist-packages (from orbax-checkpoint->flax) (1.6.0)\n",
      "Requirement already satisfied: humanize in /usr/local/lib/python3.11/dist-packages (from orbax-checkpoint->flax) (4.12.3)\n",
      "Requirement already satisfied: simplejson>=3.16.0 in /usr/local/lib/python3.11/dist-packages (from orbax-checkpoint->flax) (3.20.1)\n",
      "Requirement already satisfied: toolz>=0.9.0 in /usr/local/lib/python3.11/dist-packages (from chex>=0.1.87->optax->flax) (0.12.1)\n",
      "Requirement already satisfied: smmap<6,>=3.0.1 in /usr/local/lib/python3.11/dist-packages (from gitdb<5,>=4.0.1->gitpython!=3.1.29,>=1.0.0->wandb) (5.0.2)\n",
      "Requirement already satisfied: zipp>=3.20 in /usr/local/lib/python3.11/dist-packages (from importlib-metadata>=5->cmudict->textstat) (3.21.0)\n",
      "Requirement already satisfied: mdurl~=0.1 in /usr/local/lib/python3.11/dist-packages (from markdown-it-py>=2.2.0->rich>=11.1->flax) (0.1.2)\n",
      "Requirement already satisfied: MarkupSafe>=2.1.1 in /usr/local/lib/python3.11/dist-packages (from werkzeug>=1.0.1->tensorboard<2.19,>=2.18->tensorflow) (3.0.2)\n",
      "Get:1 https://cloud.r-project.org/bin/linux/ubuntu jammy-cran40/ InRelease [3,632 B]\n",
      "Get:2 https://developer.download.nvidia.com/compute/cuda/repos/ubuntu2204/x86_64  InRelease [1,581 B]\n",
      "Get:3 http://security.ubuntu.com/ubuntu jammy-security InRelease [129 kB]\n",
      "Hit:4 http://archive.ubuntu.com/ubuntu jammy InRelease\n",
      "Get:5 https://r2u.stat.illinois.edu/ubuntu jammy InRelease [6,555 B]\n",
      "Get:6 http://archive.ubuntu.com/ubuntu jammy-updates InRelease [128 kB]\n",
      "Get:7 https://developer.download.nvidia.com/compute/cuda/repos/ubuntu2204/x86_64  Packages [1,683 kB]\n",
      "Hit:8 https://ppa.launchpadcontent.net/deadsnakes/ppa/ubuntu jammy InRelease\n",
      "Hit:9 https://ppa.launchpadcontent.net/graphics-drivers/ppa/ubuntu jammy InRelease\n",
      "Get:10 https://r2u.stat.illinois.edu/ubuntu jammy/main all Packages [8,946 kB]\n",
      "Get:11 http://archive.ubuntu.com/ubuntu jammy-backports InRelease [127 kB]\n",
      "Get:12 https://ppa.launchpadcontent.net/ubuntugis/ppa/ubuntu jammy InRelease [24.6 kB]\n",
      "Get:13 https://r2u.stat.illinois.edu/ubuntu jammy/main amd64 Packages [2,726 kB]\n",
      "Get:14 http://security.ubuntu.com/ubuntu jammy-security/restricted amd64 Packages [4,363 kB]\n",
      "Get:15 http://archive.ubuntu.com/ubuntu jammy-updates/universe amd64 Packages [1,546 kB]\n",
      "Get:16 https://ppa.launchpadcontent.net/ubuntugis/ppa/ubuntu jammy/main amd64 Packages [77.3 kB]\n",
      "Get:17 http://archive.ubuntu.com/ubuntu jammy-updates/main amd64 Packages [3,245 kB]\n",
      "Get:18 http://security.ubuntu.com/ubuntu jammy-security/main amd64 Packages [2,934 kB]\n",
      "Get:19 http://archive.ubuntu.com/ubuntu jammy-updates/restricted amd64 Packages [4,517 kB]\n",
      "Get:20 http://archive.ubuntu.com/ubuntu jammy-backports/universe amd64 Packages [35.2 kB]\n",
      "Get:21 http://archive.ubuntu.com/ubuntu jammy-backports/main amd64 Packages [83.2 kB]\n",
      "Fetched 30.6 MB in 2s (15.5 MB/s)\n",
      "Reading package lists... Done\n",
      "W: Skipping acquire of configured file 'main/source/Sources' as repository 'https://r2u.stat.illinois.edu/ubuntu jammy InRelease' does not seem to provide it (sources.list entry misspelt?)\n",
      "Reading package lists... Done\n",
      "Building dependency tree... Done\n",
      "Reading state information... Done\n",
      "The following additional packages will be installed:\n",
      "  fonts-dejavu-core fonts-dejavu-extra libatk-wrapper-java\n",
      "  libatk-wrapper-java-jni libxt-dev libxtst6 libxxf86dga1\n",
      "  openjdk-17-jdk-headless openjdk-17-jre openjdk-17-jre-headless x11-utils\n",
      "Suggested packages:\n",
      "  libxt-doc openjdk-17-demo openjdk-17-source visualvm libnss-mdns\n",
      "  fonts-ipafont-gothic fonts-ipafont-mincho fonts-wqy-microhei\n",
      "  | fonts-wqy-zenhei fonts-indic mesa-utils\n",
      "The following NEW packages will be installed:\n",
      "  fonts-dejavu-core fonts-dejavu-extra libatk-wrapper-java\n",
      "  libatk-wrapper-java-jni libxt-dev libxtst6 libxxf86dga1 openjdk-17-jdk\n",
      "  openjdk-17-jdk-headless openjdk-17-jre openjdk-17-jre-headless x11-utils\n",
      "0 upgraded, 12 newly installed, 0 to remove and 89 not upgraded.\n",
      "Need to get 126 MB of archives.\n",
      "After this operation, 288 MB of additional disk space will be used.\n",
      "Get:1 http://archive.ubuntu.com/ubuntu jammy/main amd64 fonts-dejavu-core all 2.37-2build1 [1,041 kB]\n",
      "Get:2 http://archive.ubuntu.com/ubuntu jammy/main amd64 fonts-dejavu-extra all 2.37-2build1 [2,041 kB]\n",
      "Get:3 http://archive.ubuntu.com/ubuntu jammy/main amd64 libxtst6 amd64 2:1.2.3-1build4 [13.4 kB]\n",
      "Get:4 http://archive.ubuntu.com/ubuntu jammy/main amd64 libxxf86dga1 amd64 2:1.1.5-0ubuntu3 [12.6 kB]\n",
      "Get:5 http://archive.ubuntu.com/ubuntu jammy/main amd64 x11-utils amd64 7.7+5build2 [206 kB]\n",
      "Get:6 http://archive.ubuntu.com/ubuntu jammy/main amd64 libatk-wrapper-java all 0.38.0-5build1 [53.1 kB]\n",
      "Get:7 http://archive.ubuntu.com/ubuntu jammy/main amd64 libatk-wrapper-java-jni amd64 0.38.0-5build1 [49.0 kB]\n",
      "Get:8 http://archive.ubuntu.com/ubuntu jammy/main amd64 libxt-dev amd64 1:1.2.1-1 [396 kB]\n",
      "Get:9 http://archive.ubuntu.com/ubuntu jammy-updates/universe amd64 openjdk-17-jre-headless amd64 17.0.15+6~us1-0ubuntu1~22.04 [48.3 MB]\n",
      "Get:10 http://archive.ubuntu.com/ubuntu jammy-updates/universe amd64 openjdk-17-jre amd64 17.0.15+6~us1-0ubuntu1~22.04 [232 kB]\n",
      "Get:11 http://archive.ubuntu.com/ubuntu jammy-updates/universe amd64 openjdk-17-jdk-headless amd64 17.0.15+6~us1-0ubuntu1~22.04 [71.3 MB]\n",
      "Get:12 http://archive.ubuntu.com/ubuntu jammy-updates/universe amd64 openjdk-17-jdk amd64 17.0.15+6~us1-0ubuntu1~22.04 [2,403 kB]\n",
      "Fetched 126 MB in 3s (36.2 MB/s)\n",
      "Selecting previously unselected package fonts-dejavu-core.\n",
      "(Reading database ... 126102 files and directories currently installed.)\n",
      "Preparing to unpack .../00-fonts-dejavu-core_2.37-2build1_all.deb ...\n",
      "Unpacking fonts-dejavu-core (2.37-2build1) ...\n",
      "Selecting previously unselected package fonts-dejavu-extra.\n",
      "Preparing to unpack .../01-fonts-dejavu-extra_2.37-2build1_all.deb ...\n",
      "Unpacking fonts-dejavu-extra (2.37-2build1) ...\n",
      "Selecting previously unselected package libxtst6:amd64.\n",
      "Preparing to unpack .../02-libxtst6_2%3a1.2.3-1build4_amd64.deb ...\n",
      "Unpacking libxtst6:amd64 (2:1.2.3-1build4) ...\n",
      "Selecting previously unselected package libxxf86dga1:amd64.\n",
      "Preparing to unpack .../03-libxxf86dga1_2%3a1.1.5-0ubuntu3_amd64.deb ...\n",
      "Unpacking libxxf86dga1:amd64 (2:1.1.5-0ubuntu3) ...\n",
      "Selecting previously unselected package x11-utils.\n",
      "Preparing to unpack .../04-x11-utils_7.7+5build2_amd64.deb ...\n",
      "Unpacking x11-utils (7.7+5build2) ...\n",
      "Selecting previously unselected package libatk-wrapper-java.\n",
      "Preparing to unpack .../05-libatk-wrapper-java_0.38.0-5build1_all.deb ...\n",
      "Unpacking libatk-wrapper-java (0.38.0-5build1) ...\n",
      "Selecting previously unselected package libatk-wrapper-java-jni:amd64.\n",
      "Preparing to unpack .../06-libatk-wrapper-java-jni_0.38.0-5build1_amd64.deb ...\n",
      "Unpacking libatk-wrapper-java-jni:amd64 (0.38.0-5build1) ...\n",
      "Selecting previously unselected package libxt-dev:amd64.\n",
      "Preparing to unpack .../07-libxt-dev_1%3a1.2.1-1_amd64.deb ...\n",
      "Unpacking libxt-dev:amd64 (1:1.2.1-1) ...\n",
      "Selecting previously unselected package openjdk-17-jre-headless:amd64.\n",
      "Preparing to unpack .../08-openjdk-17-jre-headless_17.0.15+6~us1-0ubuntu1~22.04_amd64.deb ...\n",
      "Unpacking openjdk-17-jre-headless:amd64 (17.0.15+6~us1-0ubuntu1~22.04) ...\n",
      "Selecting previously unselected package openjdk-17-jre:amd64.\n",
      "Preparing to unpack .../09-openjdk-17-jre_17.0.15+6~us1-0ubuntu1~22.04_amd64.deb ...\n",
      "Unpacking openjdk-17-jre:amd64 (17.0.15+6~us1-0ubuntu1~22.04) ...\n",
      "Selecting previously unselected package openjdk-17-jdk-headless:amd64.\n",
      "Preparing to unpack .../10-openjdk-17-jdk-headless_17.0.15+6~us1-0ubuntu1~22.04_amd64.deb ...\n",
      "Unpacking openjdk-17-jdk-headless:amd64 (17.0.15+6~us1-0ubuntu1~22.04) ...\n",
      "Selecting previously unselected package openjdk-17-jdk:amd64.\n",
      "Preparing to unpack .../11-openjdk-17-jdk_17.0.15+6~us1-0ubuntu1~22.04_amd64.deb ...\n",
      "Unpacking openjdk-17-jdk:amd64 (17.0.15+6~us1-0ubuntu1~22.04) ...\n",
      "Setting up libxtst6:amd64 (2:1.2.3-1build4) ...\n",
      "Setting up libxxf86dga1:amd64 (2:1.1.5-0ubuntu3) ...\n",
      "Setting up libxt-dev:amd64 (1:1.2.1-1) ...\n",
      "Setting up fonts-dejavu-core (2.37-2build1) ...\n",
      "Setting up openjdk-17-jre-headless:amd64 (17.0.15+6~us1-0ubuntu1~22.04) ...\n",
      "update-alternatives: using /usr/lib/jvm/java-17-openjdk-amd64/bin/java to provide /usr/bin/java (java) in auto mode\n",
      "update-alternatives: using /usr/lib/jvm/java-17-openjdk-amd64/bin/jpackage to provide /usr/bin/jpackage (jpackage) in auto mode\n",
      "update-alternatives: using /usr/lib/jvm/java-17-openjdk-amd64/bin/keytool to provide /usr/bin/keytool (keytool) in auto mode\n",
      "update-alternatives: using /usr/lib/jvm/java-17-openjdk-amd64/bin/rmiregistry to provide /usr/bin/rmiregistry (rmiregistry) in auto mode\n",
      "update-alternatives: using /usr/lib/jvm/java-17-openjdk-amd64/lib/jexec to provide /usr/bin/jexec (jexec) in auto mode\n",
      "Setting up fonts-dejavu-extra (2.37-2build1) ...\n",
      "Setting up x11-utils (7.7+5build2) ...\n",
      "Setting up libatk-wrapper-java (0.38.0-5build1) ...\n",
      "Setting up openjdk-17-jre:amd64 (17.0.15+6~us1-0ubuntu1~22.04) ...\n",
      "Setting up libatk-wrapper-java-jni:amd64 (0.38.0-5build1) ...\n",
      "Setting up openjdk-17-jdk-headless:amd64 (17.0.15+6~us1-0ubuntu1~22.04) ...\n",
      "update-alternatives: using /usr/lib/jvm/java-17-openjdk-amd64/bin/jar to provide /usr/bin/jar (jar) in auto mode\n",
      "update-alternatives: using /usr/lib/jvm/java-17-openjdk-amd64/bin/jarsigner to provide /usr/bin/jarsigner (jarsigner) in auto mode\n",
      "update-alternatives: using /usr/lib/jvm/java-17-openjdk-amd64/bin/javac to provide /usr/bin/javac (javac) in auto mode\n",
      "update-alternatives: using /usr/lib/jvm/java-17-openjdk-amd64/bin/javadoc to provide /usr/bin/javadoc (javadoc) in auto mode\n",
      "update-alternatives: using /usr/lib/jvm/java-17-openjdk-amd64/bin/javap to provide /usr/bin/javap (javap) in auto mode\n",
      "update-alternatives: using /usr/lib/jvm/java-17-openjdk-amd64/bin/jcmd to provide /usr/bin/jcmd (jcmd) in auto mode\n",
      "update-alternatives: using /usr/lib/jvm/java-17-openjdk-amd64/bin/jdb to provide /usr/bin/jdb (jdb) in auto mode\n",
      "update-alternatives: using /usr/lib/jvm/java-17-openjdk-amd64/bin/jdeprscan to provide /usr/bin/jdeprscan (jdeprscan) in auto mode\n",
      "update-alternatives: using /usr/lib/jvm/java-17-openjdk-amd64/bin/jdeps to provide /usr/bin/jdeps (jdeps) in auto mode\n",
      "update-alternatives: using /usr/lib/jvm/java-17-openjdk-amd64/bin/jfr to provide /usr/bin/jfr (jfr) in auto mode\n",
      "update-alternatives: using /usr/lib/jvm/java-17-openjdk-amd64/bin/jimage to provide /usr/bin/jimage (jimage) in auto mode\n",
      "update-alternatives: using /usr/lib/jvm/java-17-openjdk-amd64/bin/jinfo to provide /usr/bin/jinfo (jinfo) in auto mode\n",
      "update-alternatives: using /usr/lib/jvm/java-17-openjdk-amd64/bin/jlink to provide /usr/bin/jlink (jlink) in auto mode\n",
      "update-alternatives: using /usr/lib/jvm/java-17-openjdk-amd64/bin/jmap to provide /usr/bin/jmap (jmap) in auto mode\n",
      "update-alternatives: using /usr/lib/jvm/java-17-openjdk-amd64/bin/jmod to provide /usr/bin/jmod (jmod) in auto mode\n",
      "update-alternatives: using /usr/lib/jvm/java-17-openjdk-amd64/bin/jps to provide /usr/bin/jps (jps) in auto mode\n",
      "update-alternatives: using /usr/lib/jvm/java-17-openjdk-amd64/bin/jrunscript to provide /usr/bin/jrunscript (jrunscript) in auto mode\n",
      "update-alternatives: using /usr/lib/jvm/java-17-openjdk-amd64/bin/jshell to provide /usr/bin/jshell (jshell) in auto mode\n",
      "update-alternatives: using /usr/lib/jvm/java-17-openjdk-amd64/bin/jstack to provide /usr/bin/jstack (jstack) in auto mode\n",
      "update-alternatives: using /usr/lib/jvm/java-17-openjdk-amd64/bin/jstat to provide /usr/bin/jstat (jstat) in auto mode\n",
      "update-alternatives: using /usr/lib/jvm/java-17-openjdk-amd64/bin/jstatd to provide /usr/bin/jstatd (jstatd) in auto mode\n",
      "update-alternatives: using /usr/lib/jvm/java-17-openjdk-amd64/bin/serialver to provide /usr/bin/serialver (serialver) in auto mode\n",
      "update-alternatives: using /usr/lib/jvm/java-17-openjdk-amd64/bin/jhsdb to provide /usr/bin/jhsdb (jhsdb) in auto mode\n",
      "Setting up openjdk-17-jdk:amd64 (17.0.15+6~us1-0ubuntu1~22.04) ...\n",
      "update-alternatives: using /usr/lib/jvm/java-17-openjdk-amd64/bin/jconsole to provide /usr/bin/jconsole (jconsole) in auto mode\n",
      "Processing triggers for fontconfig (2.13.1-4.2ubuntu5) ...\n",
      "Processing triggers for hicolor-icon-theme (0.17-2) ...\n",
      "Processing triggers for libc-bin (2.35-0ubuntu3.8) ...\n",
      "/sbin/ldconfig.real: /usr/local/lib/libumf.so.0 is not a symbolic link\n",
      "\n",
      "/sbin/ldconfig.real: /usr/local/lib/libtcm_debug.so.1 is not a symbolic link\n",
      "\n",
      "/sbin/ldconfig.real: /usr/local/lib/libtbbbind.so.3 is not a symbolic link\n",
      "\n",
      "/sbin/ldconfig.real: /usr/local/lib/libhwloc.so.15 is not a symbolic link\n",
      "\n",
      "/sbin/ldconfig.real: /usr/local/lib/libtbbbind_2_5.so.3 is not a symbolic link\n",
      "\n",
      "/sbin/ldconfig.real: /usr/local/lib/libtbb.so.12 is not a symbolic link\n",
      "\n",
      "/sbin/ldconfig.real: /usr/local/lib/libur_adapter_level_zero.so.0 is not a symbolic link\n",
      "\n",
      "/sbin/ldconfig.real: /usr/local/lib/libtbbmalloc.so.2 is not a symbolic link\n",
      "\n",
      "/sbin/ldconfig.real: /usr/local/lib/libtbbbind_2_0.so.3 is not a symbolic link\n",
      "\n",
      "/sbin/ldconfig.real: /usr/local/lib/libtcm.so.1 is not a symbolic link\n",
      "\n",
      "/sbin/ldconfig.real: /usr/local/lib/libur_adapter_opencl.so.0 is not a symbolic link\n",
      "\n",
      "/sbin/ldconfig.real: /usr/local/lib/libtbbmalloc_proxy.so.2 is not a symbolic link\n",
      "\n",
      "/sbin/ldconfig.real: /usr/local/lib/libur_loader.so.0 is not a symbolic link\n",
      "\n",
      "Processing triggers for man-db (2.10.2-1) ...\n",
      "Processing triggers for mailcap (3.70+nmu1ubuntu1) ...\n"
     ]
    }
   ]
  },
  {
   "cell_type": "code",
   "execution_count": 2,
   "metadata": {
    "colab": {
     "base_uri": "https://localhost:8080/"
    },
    "executionInfo": {
     "elapsed": 2712,
     "status": "ok",
     "timestamp": 1747497055350,
     "user": {
      "displayName": "Eren Narin",
      "userId": "16039153764301371561"
     },
     "user_tz": -180
    },
    "id": "BzB4Ys8Korki",
    "outputId": "906879ec-abd8-4e1d-ebdf-7936a21feed2"
   },
   "outputs": [
    {
     "output_type": "stream",
     "name": "stdout",
     "text": [
      "Drive already mounted at /content/drive; to attempt to forcibly remount, call drive.mount(\"/content/drive\", force_remount=True).\n"
     ]
    }
   ],
   "source": [
    "from google.colab import drive\n",
    "drive.mount('/content/drive')"
   ]
  },
  {
   "cell_type": "markdown",
   "source": [
    "Download the modified \"big_vision_repo\" to use PaliGemma utilities."
   ],
   "metadata": {
    "id": "WO4gMwrbO3RI"
   }
  },
  {
   "cell_type": "code",
   "metadata": {
    "id": "DfxKb3F839Ks",
    "ExecuteTime": {
     "end_time": "2025-05-10T16:14:46.288972Z",
     "start_time": "2025-05-10T16:14:46.285354Z"
    },
    "executionInfo": {
     "status": "ok",
     "timestamp": 1747497055354,
     "user_tz": -180,
     "elapsed": 2,
     "user": {
      "displayName": "Eren Narin",
      "userId": "16039153764301371561"
     }
    }
   },
   "source": [
    "import os\n",
    "import sys\n",
    "\n",
    "# Fetch big_vision repository if python doesn't know about it and install\n",
    "# dependencies needed for this notebook.\n",
    "if not os.path.exists(\"big_vision_repo\"):\n",
    "    !git clone --quiet --branch=master --depth=1 https://github.com/ErenNarin/modified-big-vision big_vision_repo\n",
    "\n",
    "# Append big_vision code to python import path\n",
    "if \"big_vision_repo\" not in sys.path:\n",
    "    sys.path.append(\"big_vision_repo\")"
   ],
   "outputs": [],
   "execution_count": 3
  },
  {
   "cell_type": "markdown",
   "source": [
    "Import the required packages and check the availability of jax."
   ],
   "metadata": {
    "id": "GvN_0F6zPHQV"
   }
  },
  {
   "cell_type": "code",
   "execution_count": 4,
   "metadata": {
    "colab": {
     "base_uri": "https://localhost:8080/"
    },
    "executionInfo": {
     "elapsed": 10632,
     "status": "ok",
     "timestamp": 1747497065988,
     "user": {
      "displayName": "Eren Narin",
      "userId": "16039153764301371561"
     },
     "user_tz": -180
    },
    "id": "dTfe2k8J4Bw0",
    "outputId": "7b5cfdf3-bb77-4f98-98a2-edb963815ccb"
   },
   "outputs": [
    {
     "output_type": "stream",
     "name": "stdout",
     "text": [
      "JAX version:  0.5.2\n",
      "JAX platform: cpu\n",
      "JAX devices:  1\n"
     ]
    }
   ],
   "source": [
    "import base64\n",
    "import functools\n",
    "import html\n",
    "import io\n",
    "import warnings\n",
    "import json\n",
    "\n",
    "import jax\n",
    "import jax.numpy as jnp\n",
    "import numpy as np\n",
    "import ml_collections\n",
    "import polars as pl\n",
    "\n",
    "import tensorflow as tf\n",
    "from tensorflow.keras import mixed_precision\n",
    "import sentencepiece\n",
    "\n",
    "from IPython.core.display import display, HTML\n",
    "from PIL import Image\n",
    "\n",
    "import kagglehub\n",
    "\n",
    "from skimage.segmentation import slic\n",
    "\n",
    "from google.colab import userdata\n",
    "\n",
    "# Import model definition from big_vision\n",
    "from big_vision_repo.big_vision.models.proj.paligemma import paligemma\n",
    "from big_vision_repo.big_vision.trainers.proj.paligemma import predict_fns\n",
    "from big_vision_repo.big_vision.custom_evaluation.evaluation import evaluation_score\n",
    "\n",
    "# Import big vision utilities\n",
    "from big_vision_repo.big_vision.datasets.jsonl import DataSource\n",
    "from big_vision_repo.big_vision.utils import tree_map_with_names, reshard, create_learning_rate_schedule, \\\n",
    "    tree_flatten_with_names\n",
    "from big_vision_repo.big_vision.sharding import infer_sharding\n",
    "\n",
    "from transformers import logging\n",
    "logging.set_verbosity_error()\n",
    "\n",
    "# Don't let TF use the GPU or TPUs\n",
    "tf.config.set_visible_devices([], \"GPU\")\n",
    "tf.config.set_visible_devices([], \"TPU\")\n",
    "\n",
    "mixed_precision.set_global_policy(\"mixed_float16\")\n",
    "\n",
    "#backend = jax.extend.backend.get_backend()\n",
    "devices = jax.devices()\n",
    "backend_platform = devices[0].platform if devices else \"None\" # Get platform from the first device if available\n",
    "print(f\"JAX version:  {jax.__version__}\")\n",
    "print(f\"JAX platform: {backend_platform}\")  # backend.platform\n",
    "print(f\"JAX devices:  {jax.device_count()}\")"
   ]
  },
  {
   "cell_type": "markdown",
   "source": [
    "Download the pre-trained model to be fine-tuned. We will use PaliGemma-2 3B model."
   ],
   "metadata": {
    "id": "MDP42GBPPvjs"
   }
  },
  {
   "cell_type": "code",
   "source": [
    "os.environ[\"KAGGLE_USERNAME\"] = userdata.get('KAGGLE_USERNAME')\n",
    "os.environ[\"KAGGLE_KEY\"] = userdata.get('KAGGLE_KEY')"
   ],
   "metadata": {
    "id": "YpAQBeTgGeBj",
    "executionInfo": {
     "status": "ok",
     "timestamp": 1747497067425,
     "user_tz": -180,
     "elapsed": 1438,
     "user": {
      "displayName": "Eren Narin",
      "userId": "16039153764301371561"
     }
    }
   },
   "execution_count": 5,
   "outputs": []
  },
  {
   "cell_type": "code",
   "execution_count": 6,
   "metadata": {
    "colab": {
     "base_uri": "https://localhost:8080/"
    },
    "executionInfo": {
     "elapsed": 1576,
     "status": "ok",
     "timestamp": 1747497069010,
     "user": {
      "displayName": "Eren Narin",
      "userId": "16039153764301371561"
     },
     "user_tz": -180
    },
    "id": "gQNOTfF24AV4",
    "outputId": "a8bd5cbd-79ef-4624-8010-4999cf027f47"
   },
   "outputs": [
    {
     "output_type": "stream",
     "name": "stdout",
     "text": [
      "Downloading the checkpoint from Kaggle, this could take a few minutes....\n",
      "Model path: /kaggle/input/paligemma-2/jax/paligemma2-3b-pt-224/1/./paligemma2-3b-pt-224.b16.npz\n"
     ]
    }
   ],
   "source": [
    "# Use these for PaliGemma-2 3B 224px²\n",
    "LLM_VARIANT = \"gemma2_2b\"\n",
    "MODEL_PATH = \"./paligemma2-3b-pt-224.b16.npz\"\n",
    "KAGGLE_HANDLE = \"google/paligemma-2/jax/paligemma2-3b-pt-224\"\n",
    "\n",
    "\"\"\"\n",
    "# Use these for PaliGemma 1:\n",
    "LLM_VARIANT = \"gemma_2b\"\n",
    "MODEL_PATH = \"./paligemma-3b-pt-224.f16.npz\"\n",
    "KAGGLE_HANDLE = \"google/paligemma/jax/paligemma-3b-pt-224\"\n",
    "\"\"\"\n",
    "\n",
    "if not os.path.exists(MODEL_PATH):\n",
    "    print(\"Downloading the checkpoint from Kaggle, this could take a few minutes....\")\n",
    "    MODEL_PATH = kagglehub.model_download(KAGGLE_HANDLE, MODEL_PATH)\n",
    "    print(f\"Model path: {MODEL_PATH}\")\n",
    "\n",
    "TOKENIZER_PATH = \"model/paligemma_tokenizer.model\"\n",
    "if not os.path.exists(TOKENIZER_PATH):\n",
    "    print(\"Downloading the model tokenizer...\")\n",
    "    !gsutil cp gs://big_vision/paligemma_tokenizer.model {TOKENIZER_PATH}\n",
    "    print(f\"Tokenizer path: {TOKENIZER_PATH}\")"
   ]
  },
  {
   "cell_type": "markdown",
   "source": [
    "Define the model with the pre-trained weights and default config."
   ],
   "metadata": {
    "id": "XLm-61oUQziN"
   }
  },
  {
   "cell_type": "code",
   "execution_count": 7,
   "metadata": {
    "id": "1aghcULcEdtv",
    "executionInfo": {
     "status": "ok",
     "timestamp": 1747497124139,
     "user_tz": -180,
     "elapsed": 54802,
     "user": {
      "displayName": "Eren Narin",
      "userId": "16039153764301371561"
     }
    }
   },
   "outputs": [],
   "source": [
    "# Define model\n",
    "\n",
    "# IMPORTANT: Gemma-2 has a \"final_logits_softcap\" property. Set it to 0.0\n",
    "# for better transfer results.\n",
    "model_config = ml_collections.FrozenConfigDict({\n",
    "    \"llm\": {\"vocab_size\": 257_152, \"variant\": LLM_VARIANT, \"final_logits_softcap\": 0.0},\n",
    "    \"img\": {\"variant\": \"So400m/14\", \"pool_type\": \"none\", \"scan\": True, \"dtype_mm\": \"float16\"}\n",
    "})\n",
    "model = paligemma.Model(**model_config)\n",
    "tokenizer = sentencepiece.SentencePieceProcessor(TOKENIZER_PATH)\n",
    "\n",
    "# Load params - this can take up to 1 minute in T4 colabs.\n",
    "params = paligemma.load(None, MODEL_PATH, model_config)\n",
    "\n",
    "# Define `decode` function to sample outputs from the model.\n",
    "decode_fn = predict_fns.get_all(model)['decode']\n",
    "decode = functools.partial(decode_fn, devices=jax.devices(), eos_token=tokenizer.eos_id())"
   ]
  },
  {
   "cell_type": "markdown",
   "source": [
    "Load all model parameters and add sharding to train the model on multiple GPUs, if available."
   ],
   "metadata": {
    "id": "Mw9yi2bmSW65"
   }
  },
  {
   "cell_type": "code",
   "execution_count": 8,
   "metadata": {
    "colab": {
     "base_uri": "https://localhost:8080/"
    },
    "executionInfo": {
     "elapsed": 6987,
     "status": "ok",
     "timestamp": 1747497131128,
     "user": {
      "displayName": "Eren Narin",
      "userId": "16039153764301371561"
     },
     "user_tz": -180
    },
    "id": "RWOdf_fw2SAO",
    "outputId": "de577e61-f64e-4301-9408-d5922545a2c9"
   },
   "outputs": [
    {
     "output_type": "stream",
     "name": "stdout",
     "text": [
      " == Model params == \n",
      "img/Transformer/encoder_norm/bias                                                (1152,)                float16\n",
      "img/Transformer/encoder_norm/scale                                               (1152,)                float16\n",
      "img/Transformer/encoderblock/LayerNorm_0/bias                                    (27, 1152)             float16\n",
      "img/Transformer/encoderblock/LayerNorm_0/scale                                   (27, 1152)             float16\n",
      "img/Transformer/encoderblock/LayerNorm_1/bias                                    (27, 1152)             float16\n",
      "img/Transformer/encoderblock/LayerNorm_1/scale                                   (27, 1152)             float16\n",
      "img/Transformer/encoderblock/MlpBlock_0/Dense_0/bias                             (27, 4304)             float16\n",
      "img/Transformer/encoderblock/MlpBlock_0/Dense_0/kernel                           (27, 1152, 4304)       float16\n",
      "img/Transformer/encoderblock/MlpBlock_0/Dense_1/bias                             (27, 1152)             float16\n",
      "img/Transformer/encoderblock/MlpBlock_0/Dense_1/kernel                           (27, 4304, 1152)       float16\n",
      "img/Transformer/encoderblock/MultiHeadDotProductAttention_0/key/bias             (27, 16, 72)           float16\n",
      "img/Transformer/encoderblock/MultiHeadDotProductAttention_0/key/kernel           (27, 1152, 16, 72)     float16\n",
      "img/Transformer/encoderblock/MultiHeadDotProductAttention_0/out/bias             (27, 1152)             float16\n",
      "img/Transformer/encoderblock/MultiHeadDotProductAttention_0/out/kernel           (27, 16, 72, 1152)     float16\n",
      "img/Transformer/encoderblock/MultiHeadDotProductAttention_0/query/bias           (27, 16, 72)           float16\n",
      "img/Transformer/encoderblock/MultiHeadDotProductAttention_0/query/kernel         (27, 1152, 16, 72)     float16\n",
      "img/Transformer/encoderblock/MultiHeadDotProductAttention_0/value/bias           (27, 16, 72)           float16\n",
      "img/Transformer/encoderblock/MultiHeadDotProductAttention_0/value/kernel         (27, 1152, 16, 72)     float16\n",
      "img/embedding/bias                                                               (1152,)                float16\n",
      "img/embedding/kernel                                                             (14, 14, 3, 1152)      float16\n",
      "img/head/bias                                                                    (2304,)                float16\n",
      "img/head/kernel                                                                  (1152, 2304)           float16\n",
      "img/pos_embedding                                                                (1, 256, 1152)         float16\n",
      "llm/embedder/input_embedding                                                     (257152, 2304)         float16\n",
      "llm/final_norm/scale                                                             (2304,)                float16\n",
      "llm/layers/attn/attn_vec_einsum/w                                                (26, 8, 256, 2304)     float32\n",
      "llm/layers/attn/kv_einsum/w                                                      (26, 2, 4, 2304, 256)  float32\n",
      "llm/layers/attn/q_einsum/w                                                       (26, 8, 2304, 256)     float32\n",
      "llm/layers/mlp/gating_einsum                                                     (26, 2, 2304, 9216)    float16\n",
      "llm/layers/mlp/linear                                                            (26, 9216, 2304)       float16\n",
      "llm/layers/post_attention_norm/scale                                             (26, 2304)             float16\n",
      "llm/layers/post_ffw_norm/scale                                                   (26, 2304)             float16\n",
      "llm/layers/pre_attention_norm/scale                                              (26, 2304)             float16\n",
      "llm/layers/pre_ffw_norm/scale                                                    (26, 2304)             float16\n"
     ]
    }
   ],
   "source": [
    "# Create a pytree mask of the trainable params.\n",
    "def is_trainable_param(name, param):  # pylint: disable=unused-argument\n",
    "    if name.startswith(\"llm/layers/attn/\"):  return True\n",
    "    if name.startswith(\"llm/\"):              return False\n",
    "    if name.startswith(\"img/\"):              return False\n",
    "    raise ValueError(f\"Unexpected param name {name}\")\n",
    "\n",
    "\n",
    "trainable_mask = tree_map_with_names(is_trainable_param, params)\n",
    "\n",
    "# If more than one device is available (e.g. multiple GPUs) the parameters can\n",
    "# be sharded across them to reduce HBM usage per device.\n",
    "mesh = jax.sharding.Mesh(jax.devices(), (\"data\"))\n",
    "\n",
    "data_sharding = jax.sharding.NamedSharding(\n",
    "    mesh, jax.sharding.PartitionSpec(\"data\"))\n",
    "\n",
    "params_sharding = infer_sharding(\n",
    "    params, strategy=[('.*', 'fsdp(axis=\"data\")')], mesh=mesh)\n",
    "\n",
    "# Yes: Some donated buffers are not usable.\n",
    "warnings.filterwarnings(\n",
    "    \"ignore\", message=\"Some donated buffers were not usable\")\n",
    "\n",
    "\n",
    "@functools.partial(jax.jit, donate_argnums=(0,), static_argnums=(1,))\n",
    "def maybe_cast_to_f32(params, trainable):\n",
    "    # Cast others to float16, since some GPUs don't support bf16.\n",
    "    return jax.tree.map(lambda p, m: p.astype(jnp.float32)\n",
    "    if m else p.astype(jnp.float16),\n",
    "                        params, trainable)\n",
    "\n",
    "\n",
    "# Loading all params in simultaneous - albeit much faster and more succinct -\n",
    "# requires more RAM than the T4 colab runtimes have by default.\n",
    "# Instead, do it param by param.\n",
    "params, treedef = jax.tree.flatten(params)\n",
    "sharding_leaves = jax.tree.leaves(params_sharding)\n",
    "trainable_leaves = jax.tree.leaves(trainable_mask)\n",
    "for idx, (sharding, trainable) in enumerate(zip(sharding_leaves, trainable_leaves)):\n",
    "    params[idx] = reshard(params[idx], sharding)\n",
    "    params[idx] = maybe_cast_to_f32(params[idx], trainable)\n",
    "    params[idx].block_until_ready()\n",
    "params = jax.tree.unflatten(treedef, params)\n",
    "\n",
    "\n",
    "# Print params to show what the model is made of.\n",
    "def parameter_overview(params):\n",
    "    for path, arr in tree_flatten_with_names(params)[0]:\n",
    "        print(f\"{path:80s} {str(arr.shape):22s} {arr.dtype}\")\n",
    "\n",
    "\n",
    "print(\" == Model params == \")\n",
    "parameter_overview(params)"
   ]
  },
  {
   "cell_type": "markdown",
   "source": [
    "Load and transform the data for using the PaliGemma's DataSource object. While doing this, drop duplicate or partially unavailable samples."
   ],
   "metadata": {
    "id": "ymYs17LFTh7C"
   }
  },
  {
   "cell_type": "code",
   "execution_count": 9,
   "metadata": {
    "colab": {
     "base_uri": "https://localhost:8080/"
    },
    "executionInfo": {
     "elapsed": 13042,
     "status": "ok",
     "timestamp": 1747497144174,
     "user": {
      "displayName": "Eren Narin",
      "userId": "16039153764301371561"
     },
     "user_tz": -180
    },
    "id": "UHJMJ5KopMLk",
    "outputId": "5f97e474-44e0-4d6e-bc45-0ad5e2c366a0"
   },
   "outputs": [
    {
     "output_type": "stream",
     "name": "stdout",
     "text": [
      "train_captions not found, starting to process...\n",
      "test_captions not found, starting to process...\n",
      "val_captions not found, starting to process...\n"
     ]
    }
   ],
   "source": [
    "data_path = userdata.get('DATA_PATH')  # Add data path as a Colab secret or give the direct path of the data\n",
    "images_folder = \"resized/\"\n",
    "captions_path = data_path + \"captions.csv\"\n",
    "\n",
    "df_input = pl.read_csv(captions_path, separator=\",\", glob=False)\n",
    "splits = df_input.select('split').unique()['split'].to_list()\n",
    "for split in splits:\n",
    "    filename = f\"{data_path}{split}_captions.jsonl\"\n",
    "    if True:  # not os.path.isfile(filename):  # TODO: enable this check\n",
    "        print(f\"{split}_captions not found, starting to process...\")\n",
    "        df_split = df_input.filter(pl.col('split') == split)\n",
    "        with open(filename, 'w') as f:\n",
    "            for row in df_split.iter_rows(named=True):\n",
    "                if os.path.isfile(f\"{data_path}{images_folder}{row['image']}\"):  # Skip the annotation if referenced image does not exist\n",
    "                    for i in range(1, 6):\n",
    "                        json_object = {\n",
    "                            \"prefix\": \"\",\n",
    "                            \"image\": f\"{images_folder}{row['image']}\",\n",
    "                            \"suffix\": row[f\"caption_{i}\"],  # TODO: remove duplicate samples\n",
    "                        }\n",
    "                        f.write(json.dumps(json_object) + '\\n')\n",
    "    else:\n",
    "        print(f\"{split}_captions is already processed, skipping...\")"
   ]
  },
  {
   "cell_type": "markdown",
   "source": [
    "Define preprocess and postprocess methods."
   ],
   "metadata": {
    "id": "UmCnKL7YU4zT"
   }
  },
  {
   "cell_type": "code",
   "execution_count": 10,
   "metadata": {
    "id": "8SRW0NuU4UcW",
    "executionInfo": {
     "status": "ok",
     "timestamp": 1747497144189,
     "user_tz": -180,
     "elapsed": 8,
     "user": {
      "displayName": "Eren Narin",
      "userId": "16039153764301371561"
     }
    }
   },
   "outputs": [],
   "source": [
    "def preprocess_image(image, size=224):\n",
    "    # Model has been trained to handle images of different aspects ratios\n",
    "    # resized to 224x224 in the range [-1, 1]. Bilinear and antialias resize\n",
    "    # options are helpful to improve quality in some tasks.\n",
    "\n",
    "    image = np.asarray(image)\n",
    "    if image.ndim == 2:  # Convert image without last channel into greyscale.\n",
    "        image = np.stack((image,) * 3, axis=-1)\n",
    "    image = image[..., :3]  # Remove alpha layer.\n",
    "    assert image.shape[-1] == 3\n",
    "\n",
    "    image = tf.constant(image)\n",
    "    image = tf.image.resize(image, (size, size), method='bilinear', antialias=True)\n",
    "    return image.numpy() / 127.5 - 1.0  # [0, 255]->[-1,1]\n",
    "\n",
    "\n",
    "def preprocess_tokens(prefix, suffix=None, seqlen=None):\n",
    "    # Model has been trained to handle tokenized text composed of a prefix with\n",
    "    # full attention and a suffix with causal attention.\n",
    "    separator = \"\\n\"\n",
    "    tokens = tokenizer.encode(prefix, add_bos=True) + tokenizer.encode(separator)\n",
    "    mask_ar = [0] * len(tokens)  # 0 to use full attention for prefix.\n",
    "    mask_loss = [0] * len(tokens)  # 0 to not use prefix tokens in the loss.\n",
    "\n",
    "    if suffix:\n",
    "        suffix = tokenizer.encode(suffix, add_eos=True)\n",
    "        tokens += suffix\n",
    "        mask_ar += [1] * len(suffix)  # 1 to use causal attention for suffix.\n",
    "        mask_loss += [1] * len(suffix)  # 1 to use suffix tokens in the loss.\n",
    "\n",
    "    mask_input = [1] * len(tokens)  # 1 if it's a token, 0 if padding.\n",
    "    if seqlen:\n",
    "        padding = [0] * max(0, seqlen - len(tokens))\n",
    "        tokens = tokens[:seqlen] + padding\n",
    "        mask_ar = mask_ar[:seqlen] + padding\n",
    "        mask_loss = mask_loss[:seqlen] + padding\n",
    "        mask_input = mask_input[:seqlen] + padding\n",
    "\n",
    "    return jax.tree.map(np.array, (tokens, mask_ar, mask_loss, mask_input))\n",
    "\n",
    "\n",
    "def postprocess_tokens(tokens):\n",
    "    tokens = tokens.tolist()  # np.array to list[int]\n",
    "    try:  # Remove tokens at and after EOS if any.\n",
    "        eos_pos = tokens.index(tokenizer.eos_id())\n",
    "        tokens = tokens[:eos_pos]\n",
    "    except ValueError:\n",
    "        pass\n",
    "    return tokenizer.decode(tokens)"
   ]
  },
  {
   "cell_type": "markdown",
   "source": [
    "Define the datasets and the data loaders."
   ],
   "metadata": {
    "id": "zMrzdA8vV9uI"
   }
  },
  {
   "cell_type": "code",
   "execution_count": 11,
   "metadata": {
    "id": "whzWOojGOtzi",
    "executionInfo": {
     "status": "ok",
     "timestamp": 1747497145026,
     "user_tz": -180,
     "elapsed": 835,
     "user": {
      "displayName": "Eren Narin",
      "userId": "16039153764301371561"
     }
    }
   },
   "outputs": [],
   "source": [
    "SEQLEN = 128\n",
    "\n",
    "train_dataset = DataSource(\n",
    "    os.path.join(data_path, \"train_captions.jsonl\"),\n",
    "    fopen_keys={\"image\": data_path}\n",
    ")\n",
    "\n",
    "val_dataset = DataSource(\n",
    "    os.path.join(data_path, \"val_captions.jsonl\"),\n",
    "    fopen_keys={\"image\": data_path})\n",
    "\n",
    "\n",
    "def train_data_iterator(img_token=\"grid\"):\n",
    "    \"\"\"Never ending iterator over training examples.\"\"\"\n",
    "    # Shuffle examples and repeat so one can train for many epochs.\n",
    "    dataset = train_dataset.get_tfdata().shuffle(1_000).repeat()\n",
    "    for example in dataset.as_numpy_iterator():\n",
    "        image = Image.open(io.BytesIO(example[\"image\"]))\n",
    "        image = preprocess_image(image)\n",
    "\n",
    "        region_masks = None\n",
    "        if img_token == \"segment\":\n",
    "          segments = slic(image, n_segments=(16*16), compactness=1000)\n",
    "          region_masks = np.stack([(segments == i).astype(np.float32) for i in np.unique(segments)])\n",
    "          region_masks = jnp.array(region_masks)\n",
    "\n",
    "        prefix = \"caption en\"  # Could also be a different prefix per example.\n",
    "        suffix = example[\"suffix\"].decode().lower()\n",
    "        tokens, mask_ar, mask_loss, _ = preprocess_tokens(prefix, suffix, SEQLEN)\n",
    "\n",
    "        yield {\n",
    "            \"image\": np.asarray(image),\n",
    "            \"text\": np.asarray(tokens),\n",
    "            \"annotation\": np.asarray(tokens),\n",
    "            \"mask_ar\": np.asarray(mask_ar),\n",
    "            \"mask_loss\": np.asarray(mask_loss),\n",
    "            \"region_masks\": region_masks\n",
    "        }\n",
    "\n",
    "\n",
    "def validation_data_iterator():\n",
    "    \"\"\"Single iterator over validation examples.\"\"\"\n",
    "    for example in val_dataset.get_tfdata().as_numpy_iterator():\n",
    "        image = Image.open(io.BytesIO(example[\"image\"]))\n",
    "        image = preprocess_image(image)\n",
    "\n",
    "        prefix = \"caption en\"  # Could also be a different prefix per example.\n",
    "        tokens, mask_ar, _, mask_input = preprocess_tokens(prefix, seqlen=SEQLEN)\n",
    "\n",
    "        suffix = example[\"suffix\"].decode().lower()\n",
    "        tmp_tokens, _, _, _ = preprocess_tokens(prefix, suffix, SEQLEN)\n",
    "\n",
    "        yield {\n",
    "            \"image\": np.asarray(image),\n",
    "            \"text\": np.asarray(tokens),\n",
    "            \"annotation\": np.asarray(tmp_tokens),\n",
    "            \"mask_ar\": np.asarray(mask_ar),\n",
    "            \"mask_input\": np.asarray(mask_input)\n",
    "        }"
   ]
  },
  {
   "cell_type": "markdown",
   "source": [
    "Display some examples from the training dataset."
   ],
   "metadata": {
    "id": "L7bOgixzWFvi"
   }
  },
  {
   "cell_type": "code",
   "execution_count": 12,
   "metadata": {
    "colab": {
     "base_uri": "https://localhost:8080/",
     "height": 299
    },
    "executionInfo": {
     "elapsed": 37391,
     "status": "ok",
     "timestamp": 1747497182463,
     "user": {
      "displayName": "Eren Narin",
      "userId": "16039153764301371561"
     },
     "user_tz": -180
    },
    "id": "BzJfb5t0nsLq",
    "outputId": "143c7142-4548-447f-f42e-effa51ff8102"
   },
   "outputs": [
    {
     "output_type": "stream",
     "name": "stdout",
     "text": [
      "Training examples\n"
     ]
    },
    {
     "output_type": "display_data",
     "data": {
      "text/plain": [
       "<IPython.core.display.HTML object>"
      ],
      "text/html": [
       "\n",
       "    <div style=\"display: inline-flex; align-items: center; justify-content: center;\">\n",
       "        <img style=\"width:128px; height:128px;\" src=\"data:image/jpeg;base64,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\" />\n",
       "        <p style=\"width:256px; margin:10px; font-size:small;\">There are some buildings around the roundabout, and many cars are parked on both sides of the road next to the roundabout.</p>\n",
       "        \n",
       "    </div>\n",
       "    \n",
       "    <div style=\"display: inline-flex; align-items: center; justify-content: center;\">\n",
       "        <img style=\"width:128px; height:128px;\" src=\"data:image/jpeg;base64,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\" />\n",
       "        <p style=\"width:256px; margin:10px; font-size:small;\">Many khaki buildings and green trees are in a dense residential area.</p>\n",
       "        \n",
       "    </div>\n",
       "    \n",
       "    <div style=\"display: inline-flex; align-items: center; justify-content: center;\">\n",
       "        <img style=\"width:128px; height:128px;\" src=\"data:image/jpeg;base64,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\" />\n",
       "        <p style=\"width:256px; margin:10px; font-size:small;\">There are some trees next to the meadow.</p>\n",
       "        \n",
       "    </div>\n",
       "    "
      ]
     },
     "metadata": {}
    }
   ],
   "source": [
    "def render_inline(image, resize=(128, 128)):\n",
    "    \"\"\"Convert image into inline html.\"\"\"\n",
    "    image = Image.fromarray(image)\n",
    "    image.resize(resize)\n",
    "    with io.BytesIO() as buffer:\n",
    "        image.save(buffer, format='jpeg')\n",
    "        image_b64 = str(base64.b64encode(buffer.getvalue()), \"utf-8\")\n",
    "        return f\"data:image/jpeg;base64,{image_b64}\"\n",
    "\n",
    "\n",
    "def render_example(image, caption, annotation=None):\n",
    "    caption = caption.replace(\" .\", \".\").capitalize()\n",
    "    image = ((image + 1) / 2 * 255).astype(np.uint8)  # [-1,1] -> [0, 255]\n",
    "    annotation_div = \"\"\n",
    "    if annotation:\n",
    "        annotation_div = f\"\"\"\n",
    "            <br/>\n",
    "            <p style=\"width:256px; margin:10px; font-size:small;\">{html.escape(annotation)}</p>\n",
    "        \"\"\"\n",
    "    return f\"\"\"\n",
    "    <div style=\"display: inline-flex; align-items: center; justify-content: center;\">\n",
    "        <img style=\"width:128px; height:128px;\" src=\"{render_inline(image, resize=(64, 64))}\" />\n",
    "        <p style=\"width:256px; margin:10px; font-size:small;\">{html.escape(caption)}</p>\n",
    "        {annotation_div}\n",
    "    </div>\n",
    "    \"\"\"\n",
    "\n",
    "html_out = \"\"\n",
    "for idx, example in zip(range(3), train_data_iterator()):\n",
    "    caption = postprocess_tokens(example[\"annotation\"])  # detokenize model input.\n",
    "    caption = caption[len(\"caption en\\n\"):]  # strip prefix\n",
    "    html_out += render_example(example[\"image\"], caption)\n",
    "\n",
    "print(\"Training examples\")\n",
    "display(HTML(html_out))"
   ]
  },
  {
   "cell_type": "markdown",
   "source": [
    "Define loss and inference functions."
   ],
   "metadata": {
    "id": "HIOg_hm1eaLF"
   }
  },
  {
   "cell_type": "code",
   "execution_count": 13,
   "metadata": {
    "id": "dwUV_imW3WQJ",
    "executionInfo": {
     "status": "ok",
     "timestamp": 1747497182470,
     "user_tz": -180,
     "elapsed": 2,
     "user": {
      "displayName": "Eren Narin",
      "userId": "16039153764301371561"
     }
    }
   },
   "outputs": [],
   "source": [
    "# The main update_fn using a simple stochastic gradient descent (SGD).\n",
    "@functools.partial(jax.jit, donate_argnums=(0,))\n",
    "def update_fn(params, batch, learning_rate):\n",
    "    imgs, txts, mask_ar, region_masks = batch[\"image\"], batch[\"text\"], batch[\"mask_ar\"], batch[\"region_masks\"]\n",
    "\n",
    "    def loss_fn(params):\n",
    "        text_logits, _ = model.apply({\"params\": params}, imgs, txts[:, :-1], mask_ar[:, :-1], train=True, region_masks=region_masks)\n",
    "        logp = jax.nn.log_softmax(text_logits, axis=-1)\n",
    "\n",
    "        # The model takes as input txts[:, :-1] but the loss is defined as predicting\n",
    "        # next tokens txts[:, 1:]. Additionally, mask_loss[:, 1:] indicates which tokens\n",
    "        # are part of the loss (e.g. prefix and padded tokens are not included).\n",
    "        mask_loss = batch[\"mask_loss\"][:, 1:]\n",
    "        targets = jax.nn.one_hot(txts[:, 1:], text_logits.shape[-1])\n",
    "\n",
    "        # Compute the loss per example. i.e. the mean of per token pplx.\n",
    "        # Since each example has a different number of tokens, normalize it.\n",
    "        token_pplx = jnp.sum(logp * targets, axis=-1)  # sum across vocab_size.\n",
    "        example_loss = -jnp.sum(token_pplx * mask_loss, axis=-1)  # sum across seq_len.\n",
    "        example_loss /= jnp.clip(jnp.sum(mask_loss, -1), 1)  # weight by num of tokens.\n",
    "\n",
    "        # batch_loss: mean of per example loss.\n",
    "        return jnp.mean(example_loss)\n",
    "\n",
    "    loss, grads = jax.value_and_grad(loss_fn)(params)\n",
    "\n",
    "    # Apply gradients to trainable params using SGD.\n",
    "    def apply_grad(param, gradient, trainable):\n",
    "        if not trainable: return param\n",
    "        return param - learning_rate * gradient\n",
    "\n",
    "    params = jax.tree_util.tree_map(apply_grad, params, grads, trainable_mask)\n",
    "\n",
    "    return params, loss\n",
    "\n",
    "# Evaluation/inference loop.\n",
    "def make_predictions(data_iterator, *, params, num_examples=None,\n",
    "                     batch_size=4, seqlen=SEQLEN, sampler=\"greedy\"):\n",
    "    outputs = []\n",
    "    while True:\n",
    "        # Construct a list of examples in the batch.\n",
    "        examples = []\n",
    "        try:\n",
    "            for _ in range(batch_size):\n",
    "                examples.append(next(data_iterator))\n",
    "                examples[-1][\"_mask\"] = np.array(True)  # Indicates true example.\n",
    "        except StopIteration:\n",
    "            if len(examples) == 0:\n",
    "                return outputs\n",
    "\n",
    "        # Not enough examples to complete a batch. Pad by repeating last example.\n",
    "        while len(examples) % batch_size:\n",
    "            examples.append(dict(examples[-1]))\n",
    "            examples[-1][\"_mask\"] = np.array(False)  # Indicates padding example.\n",
    "\n",
    "        # Convert list of examples into a dict of np.arrays and load onto devices.\n",
    "        batch = jax.tree.map(lambda *x: np.stack(x), *examples)\n",
    "        batch = reshard(batch, data_sharding)\n",
    "\n",
    "        # Make model predictions\n",
    "        tokens = decode({\"params\": params}, batch=batch,\n",
    "                        max_decode_len=seqlen, sampler=sampler)\n",
    "\n",
    "        # Fetch model predictions to device and detokenize.\n",
    "        tokens, mask = jax.device_get((tokens, batch[\"_mask\"]))\n",
    "        tokens = tokens[mask]  # remove padding examples.\n",
    "        responses = [postprocess_tokens(t) for t in tokens]\n",
    "\n",
    "        # Append to html output.\n",
    "        for example, response in zip(examples, responses):\n",
    "            caption = postprocess_tokens(example[\"annotation\"])  # detokenize model input.\n",
    "            caption = caption[len(\"caption en\\n\"):]  # strip prefix\n",
    "            outputs.append((example[\"image\"], response, caption))\n",
    "            if num_examples and len(outputs) >= num_examples:\n",
    "                return outputs"
   ]
  },
  {
   "cell_type": "markdown",
   "source": [
    "Initialize the W&B project and define the hyperparameters to be tested."
   ],
   "metadata": {
    "id": "ZXlRidIHhINn"
   }
  },
  {
   "cell_type": "code",
   "source": [
    "import wandb\n",
    "\n",
    "wandb.login(key=userdata.get('WANDB_KEY'))\n",
    "\n",
    "PROJECT_NAME = \"DI725_project_2389088-test\""
   ],
   "metadata": {
    "colab": {
     "base_uri": "https://localhost:8080/"
    },
    "id": "zxU0n1RQhHX7",
    "executionInfo": {
     "status": "ok",
     "timestamp": 1747497184639,
     "user_tz": -180,
     "elapsed": 2166,
     "user": {
      "displayName": "Eren Narin",
      "userId": "16039153764301371561"
     }
    },
    "outputId": "4aa57371-1953-4038-e58a-1b2b0fd4c876"
   },
   "execution_count": 14,
   "outputs": [
    {
     "output_type": "stream",
     "name": "stderr",
     "text": [
      "\u001B[34m\u001B[1mwandb\u001B[0m: \u001B[33mWARNING\u001B[0m If you're specifying your api key in code, ensure this code is not shared publicly.\n",
      "\u001B[34m\u001B[1mwandb\u001B[0m: \u001B[33mWARNING\u001B[0m Consider setting the WANDB_API_KEY environment variable, or running `wandb login` from the command line.\n",
      "\u001B[34m\u001B[1mwandb\u001B[0m: Appending key for api.wandb.ai to your netrc file: /root/.netrc\n",
      "\u001B[34m\u001B[1mwandb\u001B[0m: Currently logged in as: \u001B[33merennarin-92\u001B[0m (\u001B[33merennarin-92-metu-middle-east-technical-university\u001B[0m) to \u001B[32mhttps://api.wandb.ai\u001B[0m. Use \u001B[1m`wandb login --relogin`\u001B[0m to force relogin\n"
     ]
    }
   ]
  },
  {
   "cell_type": "markdown",
   "source": [
    "Start the training with W&B sweeps."
   ],
   "metadata": {
    "id": "aVDHTykfkQti"
   }
  },
  {
   "cell_type": "code",
   "execution_count": 15,
   "metadata": {
    "id": "067wj_6bZAG3",
    "executionInfo": {
     "status": "ok",
     "timestamp": 1747497184652,
     "user_tz": -180,
     "elapsed": 6,
     "user": {
      "displayName": "Eren Narin",
      "userId": "16039153764301371561"
     }
    }
   },
   "outputs": [],
   "source": [
    "def train(batch_size, epochs, learning_rate, img_token):\n",
    "    wandb.init(project=PROJECT_NAME)\n",
    "\n",
    "    BATCH_SIZE = batch_size\n",
    "    TRAIN_EXAMPLES = epochs\n",
    "    LEARNING_RATE = learning_rate\n",
    "    IMG_TOKEN = img_token\n",
    "    wandb.log({\"batch_size\": batch_size})\n",
    "    wandb.log({\"epochs\": epochs})\n",
    "    wandb.log({\"img_token\": IMG_TOKEN})\n",
    "\n",
    "    TRAIN_STEPS = TRAIN_EXAMPLES // BATCH_SIZE\n",
    "    EVAL_STEPS = TRAIN_STEPS // 256\n",
    "    EVAL_EXAMPLES = 4\n",
    "\n",
    "    train_data_it = train_data_iterator(img_token=IMG_TOKEN)\n",
    "\n",
    "    train_params = params.copy()\n",
    "\n",
    "    sched_fn = create_learning_rate_schedule(\n",
    "        total_steps=TRAIN_STEPS + 1, base=LEARNING_RATE,\n",
    "        decay_type=\"cosine\", warmup_percent=0.10)\n",
    "\n",
    "    for step in range(1, TRAIN_STEPS + 1):\n",
    "        # Make list of N training examples.\n",
    "        examples = [next(train_data_it) for _ in range(BATCH_SIZE)]\n",
    "\n",
    "        # Convert list of examples into a dict of np.arrays and load onto devices.\n",
    "        batch = jax.tree.map(lambda *x: np.stack(x), *examples)\n",
    "        batch = reshard(batch, data_sharding)\n",
    "\n",
    "        # Training step and report training loss\n",
    "        learning_rate = sched_fn(step)\n",
    "        train_params, loss = update_fn(train_params, batch, learning_rate)\n",
    "\n",
    "        loss = jax.device_get(loss)\n",
    "        print(f\"step: {step:2d}/{TRAIN_STEPS:2d}   lr: {learning_rate:.5f}   loss: {loss:.4f}\")\n",
    "        wandb.log({\"step\": step, \"learning_rate\": learning_rate})\n",
    "        wandb.log({\"step\": step, \"train_loss\": loss})\n",
    "\n",
    "        if (step % EVAL_STEPS) == 0:\n",
    "            print(f\"Model predictions at step {step}\")\n",
    "            html_out = \"\"\n",
    "            sum_score = 0\n",
    "            for image, caption, annotation in make_predictions(\n",
    "                    validation_data_iterator(), params=train_params, num_examples=EVAL_EXAMPLES, batch_size=BATCH_SIZE):\n",
    "                # Evaluation\n",
    "                caption = caption.replace(\" .\", \".\").capitalize()\n",
    "                annotation = annotation.replace(\" .\", \".\").capitalize()\n",
    "                score = evaluation_score(annotation, caption)\n",
    "                sum_score += score\n",
    "                html_out += render_example(image, caption, annotation)\n",
    "            wandb.log({\"step\": step, \"avg_score\": sum_score / EVAL_EXAMPLES})\n",
    "            print(f\"Average score at step {step}: {sum_score / EVAL_EXAMPLES}\")\n",
    "            display(HTML(html_out))"
   ]
  },
  {
   "cell_type": "code",
   "source": [
    "import itertools\n",
    "\n",
    "hyperparameters = {\n",
    "    \"batch_size\": [4],        #[4,            4,         4,         4]\n",
    "    \"epochs\": [4096],         #[4096,         4096,      4096,      4096]\n",
    "    \"learning_rate\": [0.001], #[0.01,         0.01,      0.001,     0.001]\n",
    "    \"img_token\": [\"segment\"]  #[\"segment\",    \"grid\",    \"grid\",    \"segment\"]\n",
    "}\n",
    "\n",
    "keys = list(hyperparameters.keys())\n",
    "values = list(hyperparameters.values())\n",
    "\n",
    "for value in itertools.product(*values):\n",
    "    config = dict(zip(keys, value))\n",
    "    print(config)\n",
    "    train(**config)\n",
    "    print(\"Training completed, checking for new configuration.\")\n",
    "print(\"Training completed.\")"
   ],
   "metadata": {
    "colab": {
     "base_uri": "https://localhost:8080/",
     "height": 1000
    },
    "id": "fnLBCkc2-9f2",
    "outputId": "9def0db1-789c-4d1e-d912-b3b798d5c855",
    "executionInfo": {
     "status": "error",
     "timestamp": 1747497716000,
     "user_tz": -180,
     "elapsed": 531337,
     "user": {
      "displayName": "Eren Narin",
      "userId": "16039153764301371561"
     }
    }
   },
   "execution_count": 16,
   "outputs": [
    {
     "output_type": "stream",
     "name": "stdout",
     "text": [
      "{'batch_size': 4, 'epochs': 4096, 'learning_rate': 0.001, 'img_token': 'segment'}\n"
     ]
    },
    {
     "output_type": "display_data",
     "data": {
      "text/plain": [
       "<IPython.core.display.HTML object>"
      ],
      "text/html": [
       "Tracking run with wandb version 0.19.11"
      ]
     },
     "metadata": {}
    },
    {
     "output_type": "display_data",
     "data": {
      "text/plain": [
       "<IPython.core.display.HTML object>"
      ],
      "text/html": [
       "Run data is saved locally in <code>/content/wandb/run-20250517_155303-xg0zchot</code>"
      ]
     },
     "metadata": {}
    },
    {
     "output_type": "display_data",
     "data": {
      "text/plain": [
       "<IPython.core.display.HTML object>"
      ],
      "text/html": [
       "Syncing run <strong><a href='https://wandb.ai/erennarin-92-metu-middle-east-technical-university/DI725_project_2389088-test/runs/xg0zchot' target=\"_blank\">stellar-thunder-2</a></strong> to <a href='https://wandb.ai/erennarin-92-metu-middle-east-technical-university/DI725_project_2389088-test' target=\"_blank\">Weights & Biases</a> (<a href='https://wandb.me/developer-guide' target=\"_blank\">docs</a>)<br>"
      ]
     },
     "metadata": {}
    },
    {
     "output_type": "display_data",
     "data": {
      "text/plain": [
       "<IPython.core.display.HTML object>"
      ],
      "text/html": [
       " View project at <a href='https://wandb.ai/erennarin-92-metu-middle-east-technical-university/DI725_project_2389088-test' target=\"_blank\">https://wandb.ai/erennarin-92-metu-middle-east-technical-university/DI725_project_2389088-test</a>"
      ]
     },
     "metadata": {}
    },
    {
     "output_type": "display_data",
     "data": {
      "text/plain": [
       "<IPython.core.display.HTML object>"
      ],
      "text/html": [
       " View run at <a href='https://wandb.ai/erennarin-92-metu-middle-east-technical-university/DI725_project_2389088-test/runs/xg0zchot' target=\"_blank\">https://wandb.ai/erennarin-92-metu-middle-east-technical-university/DI725_project_2389088-test/runs/xg0zchot</a>"
      ]
     },
     "metadata": {}
    },
    {
     "output_type": "stream",
     "name": "stdout",
     "text": [
      "step:  1/1024   lr: 0.00001   loss: 4.0053\n",
      "step:  2/1024   lr: 0.00002   loss: 3.4993\n",
      "step:  3/1024   lr: 0.00003   loss: 3.4018\n",
      "step:  4/1024   lr: 0.00004   loss: 2.9818\n",
      "Model predictions at step 4\n"
     ]
    },
    {
     "output_type": "stream",
     "name": "stderr",
     "text": [
      "Downloading LanguageTool latest: 100%|██████████| 252M/252M [00:09<00:00, 27.0MB/s]\n",
      "INFO:language_tool_python.download_lt:Unzipping /tmp/tmp1798am0q.zip to /root/.cache/language_tool_python.\n",
      "INFO:language_tool_python.download_lt:Downloaded https://internal1.languagetool.org/snapshots/LanguageTool-latest-snapshot.zip to /root/.cache/language_tool_python.\n"
     ]
    },
    {
     "output_type": "stream",
     "name": "stdout",
     "text": [
      "{'testlen': 8, 'reflen': 12, 'guess': [8, 7, 6, 5], 'correct': [0, 0, 0, 0]}\n",
      "ratio: 0.6666666666111113\n",
      "{'testlen': 8, 'reflen': 14, 'guess': [8, 7, 6, 5], 'correct': [1, 0, 0, 0]}\n",
      "ratio: 0.5714285713877553\n",
      "{'testlen': 8, 'reflen': 15, 'guess': [8, 7, 6, 5], 'correct': [1, 0, 0, 0]}\n",
      "ratio: 0.5333333332977779\n",
      "{'testlen': 8, 'reflen': 12, 'guess': [8, 7, 6, 5], 'correct': [1, 0, 0, 0]}\n",
      "ratio: 0.6666666666111113\n",
      "Average score at step 4: 0.4794310032991307\n"
     ]
    },
    {
     "output_type": "display_data",
     "data": {
      "text/plain": [
       "<IPython.core.display.HTML object>"
      ],
      "text/html": [
       "\n",
       "    <div style=\"display: inline-flex; align-items: center; justify-content: center;\">\n",
       "        <img style=\"width:128px; height:128px;\" src=\"data:image/jpeg;base64,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\" />\n",
       "        <p style=\"width:256px; margin:10px; font-size:small;\">The image shows the airport as it was.</p>\n",
       "        \n",
       "            <br/>\n",
       "            <p style=\"width:256px; margin:10px; font-size:small;\">Two planes parked next to boarding bridges and another passing plane beside.</p>\n",
       "        \n",
       "    </div>\n",
       "    \n",
       "    <div style=\"display: inline-flex; align-items: center; justify-content: center;\">\n",
       "        <img style=\"width:128px; height:128px;\" src=\"data:image/jpeg;base64,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\" />\n",
       "        <p style=\"width:256px; margin:10px; font-size:small;\">The image shows the airport as it was.</p>\n",
       "        \n",
       "            <br/>\n",
       "            <p style=\"width:256px; margin:10px; font-size:small;\">Two aircraft were parked at the departure gates and one was on the runway.</p>\n",
       "        \n",
       "    </div>\n",
       "    \n",
       "    <div style=\"display: inline-flex; align-items: center; justify-content: center;\">\n",
       "        <img style=\"width:128px; height:128px;\" src=\"data:image/jpeg;base64,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\" />\n",
       "        <p style=\"width:256px; margin:10px; font-size:small;\">The image shows the airport as it was.</p>\n",
       "        \n",
       "            <br/>\n",
       "            <p style=\"width:256px; margin:10px; font-size:small;\">Several planes of the same size parked neatly next to the buildings inside the airport.</p>\n",
       "        \n",
       "    </div>\n",
       "    \n",
       "    <div style=\"display: inline-flex; align-items: center; justify-content: center;\">\n",
       "        <img style=\"width:128px; height:128px;\" src=\"data:image/jpeg;base64,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\" />\n",
       "        <p style=\"width:256px; margin:10px; font-size:small;\">The image shows the airport as it was.</p>\n",
       "        \n",
       "            <br/>\n",
       "            <p style=\"width:256px; margin:10px; font-size:small;\">Three planes are parked on the open space next to the terminal.</p>\n",
       "        \n",
       "    </div>\n",
       "    "
      ]
     },
     "metadata": {}
    },
    {
     "output_type": "stream",
     "name": "stderr",
     "text": [
      "Exception ignored in: <function LanguageTool.__del__ at 0x7a152e5a0cc0>\n",
      "Traceback (most recent call last):\n",
      "  File \"/usr/local/lib/python3.11/dist-packages/language_tool_python/server.py\", line 180, in __del__\n",
      "    self.close()\n",
      "  File \"/usr/local/lib/python3.11/dist-packages/language_tool_python/server.py\", line 201, in close\n",
      "    self._terminate_server()\n",
      "  File \"/usr/local/lib/python3.11/dist-packages/language_tool_python/server.py\", line 644, in _terminate_server\n",
      "    self._consumer_thread.join(timeout=5)\n",
      "  File \"/usr/lib/python3.11/threading.py\", line 1116, in join\n",
      "    raise RuntimeError(\"cannot join current thread\")\n",
      "RuntimeError: cannot join current thread\n"
     ]
    },
    {
     "output_type": "error",
     "ename": "KeyboardInterrupt",
     "evalue": "",
     "traceback": [
      "\u001B[0;31m---------------------------------------------------------------------------\u001B[0m",
      "\u001B[0;31mKeyboardInterrupt\u001B[0m                         Traceback (most recent call last)",
      "\u001B[0;32m<ipython-input-16-b171c51355b6>\u001B[0m in \u001B[0;36m<cell line: 0>\u001B[0;34m()\u001B[0m\n\u001B[1;32m     14\u001B[0m     \u001B[0mconfig\u001B[0m \u001B[0;34m=\u001B[0m \u001B[0mdict\u001B[0m\u001B[0;34m(\u001B[0m\u001B[0mzip\u001B[0m\u001B[0;34m(\u001B[0m\u001B[0mkeys\u001B[0m\u001B[0;34m,\u001B[0m \u001B[0mvalue\u001B[0m\u001B[0;34m)\u001B[0m\u001B[0;34m)\u001B[0m\u001B[0;34m\u001B[0m\u001B[0;34m\u001B[0m\u001B[0m\n\u001B[1;32m     15\u001B[0m     \u001B[0mprint\u001B[0m\u001B[0;34m(\u001B[0m\u001B[0mconfig\u001B[0m\u001B[0;34m)\u001B[0m\u001B[0;34m\u001B[0m\u001B[0;34m\u001B[0m\u001B[0m\n\u001B[0;32m---> 16\u001B[0;31m     \u001B[0mtrain\u001B[0m\u001B[0;34m(\u001B[0m\u001B[0;34m**\u001B[0m\u001B[0mconfig\u001B[0m\u001B[0;34m)\u001B[0m\u001B[0;34m\u001B[0m\u001B[0;34m\u001B[0m\u001B[0m\n\u001B[0m\u001B[1;32m     17\u001B[0m     \u001B[0mprint\u001B[0m\u001B[0;34m(\u001B[0m\u001B[0;34m\"Training completed, checking for new configuration.\"\u001B[0m\u001B[0;34m)\u001B[0m\u001B[0;34m\u001B[0m\u001B[0;34m\u001B[0m\u001B[0m\n\u001B[1;32m     18\u001B[0m \u001B[0mprint\u001B[0m\u001B[0;34m(\u001B[0m\u001B[0;34m\"Training completed.\"\u001B[0m\u001B[0;34m)\u001B[0m\u001B[0;34m\u001B[0m\u001B[0;34m\u001B[0m\u001B[0m\n",
      "\u001B[0;32m<ipython-input-15-3275cca0c280>\u001B[0m in \u001B[0;36mtrain\u001B[0;34m(batch_size, epochs, learning_rate, img_token)\u001B[0m\n\u001B[1;32m     34\u001B[0m         \u001B[0mtrain_params\u001B[0m\u001B[0;34m,\u001B[0m \u001B[0mloss\u001B[0m \u001B[0;34m=\u001B[0m \u001B[0mupdate_fn\u001B[0m\u001B[0;34m(\u001B[0m\u001B[0mtrain_params\u001B[0m\u001B[0;34m,\u001B[0m \u001B[0mbatch\u001B[0m\u001B[0;34m,\u001B[0m \u001B[0mlearning_rate\u001B[0m\u001B[0;34m)\u001B[0m\u001B[0;34m\u001B[0m\u001B[0;34m\u001B[0m\u001B[0m\n\u001B[1;32m     35\u001B[0m \u001B[0;34m\u001B[0m\u001B[0m\n\u001B[0;32m---> 36\u001B[0;31m         \u001B[0mloss\u001B[0m \u001B[0;34m=\u001B[0m \u001B[0mjax\u001B[0m\u001B[0;34m.\u001B[0m\u001B[0mdevice_get\u001B[0m\u001B[0;34m(\u001B[0m\u001B[0mloss\u001B[0m\u001B[0;34m)\u001B[0m\u001B[0;34m\u001B[0m\u001B[0;34m\u001B[0m\u001B[0m\n\u001B[0m\u001B[1;32m     37\u001B[0m         \u001B[0mprint\u001B[0m\u001B[0;34m(\u001B[0m\u001B[0;34mf\"step: {step:2d}/{TRAIN_STEPS:2d}   lr: {learning_rate:.5f}   loss: {loss:.4f}\"\u001B[0m\u001B[0;34m)\u001B[0m\u001B[0;34m\u001B[0m\u001B[0;34m\u001B[0m\u001B[0m\n\u001B[1;32m     38\u001B[0m         \u001B[0mwandb\u001B[0m\u001B[0;34m.\u001B[0m\u001B[0mlog\u001B[0m\u001B[0;34m(\u001B[0m\u001B[0;34m{\u001B[0m\u001B[0;34m\"step\"\u001B[0m\u001B[0;34m:\u001B[0m \u001B[0mstep\u001B[0m\u001B[0;34m,\u001B[0m \u001B[0;34m\"learning_rate\"\u001B[0m\u001B[0;34m:\u001B[0m \u001B[0mlearning_rate\u001B[0m\u001B[0;34m}\u001B[0m\u001B[0;34m)\u001B[0m\u001B[0;34m\u001B[0m\u001B[0;34m\u001B[0m\u001B[0m\n",
      "\u001B[0;32m/usr/local/lib/python3.11/dist-packages/jax/_src/api.py\u001B[0m in \u001B[0;36mdevice_get\u001B[0;34m(x)\u001B[0m\n\u001B[1;32m   2519\u001B[0m     \u001B[0;32mreturn\u001B[0m \u001B[0mtoarray\u001B[0m\u001B[0;34m(\u001B[0m\u001B[0;34m)\u001B[0m\u001B[0;34m\u001B[0m\u001B[0;34m\u001B[0m\u001B[0m\n\u001B[1;32m   2520\u001B[0m \u001B[0;34m\u001B[0m\u001B[0m\n\u001B[0;32m-> 2521\u001B[0;31m \u001B[0;32mdef\u001B[0m \u001B[0mdevice_get\u001B[0m\u001B[0;34m(\u001B[0m\u001B[0mx\u001B[0m\u001B[0;34m:\u001B[0m \u001B[0mAny\u001B[0m\u001B[0;34m)\u001B[0m\u001B[0;34m:\u001B[0m\u001B[0;34m\u001B[0m\u001B[0;34m\u001B[0m\u001B[0m\n\u001B[0m\u001B[1;32m   2522\u001B[0m   \"\"\"Transfer ``x`` to host.\n\u001B[1;32m   2523\u001B[0m \u001B[0;34m\u001B[0m\u001B[0m\n",
      "\u001B[0;31mKeyboardInterrupt\u001B[0m: "
     ]
    }
   ]
  }
 ],
 "metadata": {
  "colab": {
   "provenance": [
    {
     "file_id": "https://github.com/google/generative-ai-docs/blob/main/site/en/gemma/docs/paligemma/fine-tuning-paligemma.ipynb",
     "timestamp": 1744917295319
    }
   ],
   "machine_shape": "hm"
  },
  "kernelspec": {
   "display_name": "Python 3",
   "name": "python3"
  }
 },
 "nbformat": 4,
 "nbformat_minor": 0
}
